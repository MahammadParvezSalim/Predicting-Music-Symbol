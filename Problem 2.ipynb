{
 "cells": [
  {
   "cell_type": "code",
   "execution_count": 1,
   "metadata": {},
   "outputs": [],
   "source": [
    "import os\n",
    "os.chdir('E:/Assignment 05 - Neural Networks and Evaluating Results2/Music_Symbols/Music_Symbols')\n",
    "#import split_folders\n",
    "\n",
    "\n",
    "# Split with a ratio.\n",
    "# To only split into training and validation set, set a tuple to `ratio`, i.e, `(.8, .2)`.\n",
    "#split_folders.fixed('E:/Assignment 05 - Neural Networks and Evaluating Results2/Music_Symbols/Music_Symbols/NDS', output=\"OUTPUT\", seed=1337, fixed=(10,10), oversample=False)\n",
    "#split_folders.ratio('E:/Assignment 05 - Neural Networks and Evaluating Results2/Music_Symbols', output='E:/Assignment 05 - Neural Networks and Evaluating Results2/Music_Symbols/NDS1', seed=1337, ratio=(.8, .2)) # default values\n",
    "\n",
    "# Split val/test with a fixed number of items e.g. 100 for each set.\n",
    "# To only split into training and validation set, use a single number to `fixed`, i.e., `10`.\n",
    "#split_folders.fixed('input_folder', output=\"output\", seed=1337, fixed=(100, 100), oversample=False) # default values"
   ]
  },
  {
   "cell_type": "code",
   "execution_count": 2,
   "metadata": {},
   "outputs": [
    {
     "name": "stderr",
     "output_type": "stream",
     "text": [
      "Copying files: 4098 files [00:22, 179.29 files/s]\n"
     ]
    }
   ],
   "source": [
    "import split_folders\n",
    "\n",
    "# Split with a ratio.\n",
    "# To only split into training and validation set, set a tuple to `ratio`, i.e, `(.8, .2)`.\n",
    "#split_folders.ratio('E:/Assignment 05 - Neural Networks and Evaluating Results2/Music_Symbols/Music_Symbols/NDS/', output=\"output\", seed=1337, ratio=(.8, .2)) # default values\n",
    "\n",
    "# Split val/test with a fixed number of items e.g. 100 for each set.\n",
    "# To only split into training and validation set, use a single number to `fixed`, i.e., `10`.\n",
    "split_folders.fixed('E:/Assignment 05 - Neural Networks and Evaluating Results2/Music_Symbols/Music_Symbols', output=\"output\", seed=1337, fixed=(100, 100), oversample=False) # default values"
   ]
  },
  {
   "cell_type": "code",
   "execution_count": 6,
   "metadata": {},
   "outputs": [],
   "source": [
    "from PIL import Image\n",
    "import os, sys\n",
    "os.chdir('E:/NeuralNetwork2/NACCDS/')\n",
    "\n",
    "path = \"E:/NeuralNetwork2/NACCDS/\"\n",
    "dirs = os.listdir( path )\n",
    "\n",
    "def resize():\n",
    "    for item in dirs:\n",
    "        if os.path.isfile(path+item):\n",
    "            im = Image.open(path+item)\n",
    "            f, e = os.path.splitext(path+item)\n",
    "            imResize = im.resize((20,20), Image.ANTIALIAS)\n",
    "            imResize.save(f + ' resized.jpg', 'JPEG', quality=90)\n",
    "\n",
    "resize()"
   ]
  },
  {
   "cell_type": "code",
   "execution_count": 7,
   "metadata": {},
   "outputs": [
    {
     "name": "stderr",
     "output_type": "stream",
     "text": [
      "Copying files: 4114 files [00:20, 200.76 files/s]\n"
     ]
    }
   ],
   "source": [
    "import split_folders\n",
    "\n",
    "# Split with a ratio.\n",
    "# To only split into training and validation set, set a tuple to `ratio`, i.e, `(.8, .2)`.\n",
    "#split_folders.ratio('E:/Assignment 05 - Neural Networks and Evaluating Results2/Music_Symbols/Music_Symbols/NDS/', output=\"output\", seed=1337, ratio=(.8, .2)) # default values\n",
    "\n",
    "# Split val/test with a fixed number of items e.g. 100 for each set.\n",
    "# To only split into training and validation set, use a single number to `fixed`, i.e., `10`.\n",
    "split_folders.fixed('E:/NeuralNetwork2', output=\"output\", seed=1337, fixed=(100, 100), oversample=False) # default values"
   ]
  },
  {
   "cell_type": "code",
   "execution_count": 8,
   "metadata": {},
   "outputs": [],
   "source": [
    "# TensorFlow and tf.keras\n",
    "import tensorflow as tf\n",
    "from tensorflow import keras\n",
    "\n",
    "# Helper libraries\n",
    "import numpy as np\n",
    "import matplotlib.pyplot as plt\n",
    "import glob, os\n",
    "import re\n",
    "\n",
    "# Pillow\n",
    "import PIL\n",
    "from PIL import Image"
   ]
  },
  {
   "cell_type": "code",
   "execution_count": 9,
   "metadata": {},
   "outputs": [],
   "source": [
    "# Use Pillow library to convert an input jpeg to a 8 bit grey scale image array for processing.\n",
    "def jpeg_to_8_bit_greyscale(path, maxsize):\n",
    "        img = Image.open(path).convert('L')   # convert image to 8-bit grayscale\n",
    "        # Make aspect ratio as 1:1, by applying image crop.\n",
    "    \n",
    "        WIDTH, HEIGHT = img.size\n",
    "        if WIDTH != HEIGHT:\n",
    "                m_min_d = min(WIDTH, HEIGHT)\n",
    "                img = img.crop((0, 0, m_min_d, m_min_d))\n",
    "# Scale the image to the requested maxsize by Anti-alias sampling.\n",
    "        img.thumbnail(maxsize, PIL.Image.ANTIALIAS)\n",
    "        return np.asarray(img)"
   ]
  },
  {
   "cell_type": "code",
   "execution_count": 10,
   "metadata": {},
   "outputs": [],
   "source": [
    "#NACCDS= Not accidental double sharp ACCDS=accidental double sharp\n",
    "\n",
    "def load_image_dataset(path_dir, maxsize):\n",
    "        images = []\n",
    "        labels = []\n",
    "        os.chdir(path_dir)\n",
    "        for file in glob.glob(\"*.jpg\"):\n",
    "                img = jpeg_to_8_bit_greyscale(file, maxsize)\n",
    "                if re.match('ACCDS.*', file):\n",
    "                        images.append(img)\n",
    "                        labels.append(0)\n",
    "                elif re.match('NACCDS.*', file):\n",
    "                        images.append(img)\n",
    "                        labels.append(1)\n",
    "        return (np.asarray(images), np.asarray(labels))"
   ]
  },
  {
   "cell_type": "code",
   "execution_count": 11,
   "metadata": {},
   "outputs": [],
   "source": [
    "maxsize = 20, 20"
   ]
  },
  {
   "cell_type": "code",
   "execution_count": 12,
   "metadata": {},
   "outputs": [],
   "source": [
    "(train_images, train_labels) = load_image_dataset('E:/NeuralNetwork2/output/train', maxsize)\n",
    "\n",
    "(test_images, test_labels) = load_image_dataset('E:/NeuralNetwork2/output/train', maxsize)"
   ]
  },
  {
   "cell_type": "code",
   "execution_count": 13,
   "metadata": {},
   "outputs": [],
   "source": [
    "class_names = ['ACCDS', 'NACCDS']"
   ]
  },
  {
   "cell_type": "code",
   "execution_count": 14,
   "metadata": {},
   "outputs": [
    {
     "data": {
      "text/plain": [
       "(3714, 20, 20)"
      ]
     },
     "execution_count": 14,
     "metadata": {},
     "output_type": "execute_result"
    }
   ],
   "source": [
    "train_images.shape"
   ]
  },
  {
   "cell_type": "code",
   "execution_count": 15,
   "metadata": {},
   "outputs": [
    {
     "data": {
      "text/plain": [
       "(3714, 20, 20)"
      ]
     },
     "execution_count": 15,
     "metadata": {},
     "output_type": "execute_result"
    }
   ],
   "source": [
    "test_images.shape"
   ]
  },
  {
   "cell_type": "code",
   "execution_count": 16,
   "metadata": {},
   "outputs": [
    {
     "name": "stdout",
     "output_type": "stream",
     "text": [
      "[0 0 0 ... 1 1 1]\n"
     ]
    }
   ],
   "source": [
    "print(train_labels)"
   ]
  },
  {
   "cell_type": "code",
   "execution_count": 18,
   "metadata": {},
   "outputs": [
    {
     "name": "stdout",
     "output_type": "stream",
     "text": [
      "[0 0 0 ... 1 1 1]\n"
     ]
    }
   ],
   "source": [
    "print(train_labels)"
   ]
  },
  {
   "cell_type": "code",
   "execution_count": 20,
   "metadata": {},
   "outputs": [],
   "source": [
    "def display_images(images, labels):\n",
    "        plt.figure(figsize=(10,10))\n",
    "        grid_size = min(25, len(images))\n",
    "        for i in range(grid_size):\n",
    "                plt.subplot(5, 5, i+1)\n",
    "                plt.xticks([])\n",
    "                plt.yticks([])\n",
    "                plt.grid(False)\n",
    "                plt.imshow(images[i], cmap=plt.cm.binary)\n",
    "                plt.xlabel(class_names[labels[i]])"
   ]
  },
  {
   "cell_type": "code",
   "execution_count": 21,
   "metadata": {},
   "outputs": [
    {
     "data": {
      "image/png": "[encoded data removed]",
      "text/plain": [
       "<Figure size 720x720 with 25 Axes>"
      ]
     },
     "metadata": {},
     "output_type": "display_data"
    }
   ],
   "source": [
    "display_images(test_images, test_labels)\n",
    "plt.show()"
   ]
  },
  {
   "cell_type": "code",
   "execution_count": 22,
   "metadata": {},
   "outputs": [],
   "source": [
    "train_images = train_images / 255.0\n",
    "test_images = test_images / 255.0"
   ]
  },
  {
   "cell_type": "code",
   "execution_count": 23,
   "metadata": {},
   "outputs": [
    {
     "name": "stdout",
     "output_type": "stream",
     "text": [
      "WARNING:tensorflow:From C:\\ProgramData\\Anaconda3\\lib\\site-packages\\tensorflow\\python\\ops\\init_ops.py:1251: calling VarianceScaling.__init__ (from tensorflow.python.ops.init_ops) with dtype is deprecated and will be removed in a future version.\n",
      "Instructions for updating:\n",
      "Call initializer instance with the dtype argument instead of passing it to the constructor\n"
     ]
    }
   ],
   "source": [
    "# Setting up the layers.\n",
    "\n",
    "model = keras.Sequential([\n",
    "    keras.layers.Flatten(input_shape=(20, 20)),\n",
    "        keras.layers.Dense(128, activation=tf.nn.sigmoid),\n",
    "        keras.layers.Dense(16, activation=tf.nn.sigmoid),\n",
    "    keras.layers.Dense(2, activation=tf.nn.softmax)\n",
    "])"
   ]
  },
  {
   "cell_type": "code",
   "execution_count": 24,
   "metadata": {},
   "outputs": [],
   "source": [
    "sgd = keras.optimizers.SGD(lr=0.01, decay=1e-5, momentum=0.7, nesterov=True)\n",
    "\n",
    "model.compile(optimizer=sgd,\n",
    "              loss='sparse_categorical_crossentropy',\n",
    "              metrics=['accuracy'])"
   ]
  },
  {
   "cell_type": "code",
   "execution_count": 25,
   "metadata": {},
   "outputs": [
    {
     "name": "stdout",
     "output_type": "stream",
     "text": [
      "Epoch 1/200\n",
      "3714/3714 [==============================] - ETA: 21s - loss: 0.6855 - acc: 0.59 - ETA: 1s - loss: 0.3977 - acc: 0.9000 - ETA: 0s - loss: 0.3632 - acc: 0.898 - ETA: 0s - loss: 0.3372 - acc: 0.904 - ETA: 0s - loss: 0.3255 - acc: 0.907 - ETA: 0s - loss: 0.3178 - acc: 0.910 - ETA: 0s - loss: 0.3121 - acc: 0.911 - 1s 151us/sample - loss: 0.3096 - acc: 0.9117\n",
      "Epoch 2/200\n",
      "3714/3714 [==============================] - ETA: 1s - loss: 0.3067 - acc: 0.906 - ETA: 0s - loss: 0.3240 - acc: 0.896 - ETA: 0s - loss: 0.2971 - acc: 0.908 - ETA: 0s - loss: 0.2861 - acc: 0.912 - 0s 65us/sample - loss: 0.2815 - acc: 0.9146\n",
      "Epoch 3/200\n",
      "3714/3714 [==============================] - ETA: 0s - loss: 0.3005 - acc: 0.906 - ETA: 1s - loss: 0.3270 - acc: 0.890 - ETA: 0s - loss: 0.2883 - acc: 0.908 - ETA: 0s - loss: 0.2728 - acc: 0.914 - ETA: 0s - loss: 0.2659 - acc: 0.917 - ETA: 0s - loss: 0.2675 - acc: 0.916 - ETA: 0s - loss: 0.2648 - acc: 0.917 - 0s 101us/sample - loss: 0.2707 - acc: 0.9146\n",
      "Epoch 4/200\n",
      "3714/3714 [==============================] - ETA: 2s - loss: 0.3614 - acc: 0.875 - ETA: 0s - loss: 0.2858 - acc: 0.906 - ETA: 0s - loss: 0.2835 - acc: 0.903 - ETA: 0s - loss: 0.2708 - acc: 0.909 - ETA: 0s - loss: 0.2745 - acc: 0.907 - ETA: 0s - loss: 0.2669 - acc: 0.911 - ETA: 0s - loss: 0.2589 - acc: 0.914 - 0s 102us/sample - loss: 0.2588 - acc: 0.9146\n",
      "Epoch 5/200\n",
      "3714/3714 [==============================] - ETA: 0s - loss: 0.2808 - acc: 0.906 - ETA: 1s - loss: 0.2346 - acc: 0.921 - ETA: 1s - loss: 0.2206 - acc: 0.931 - ETA: 1s - loss: 0.2415 - acc: 0.921 - ETA: 0s - loss: 0.2520 - acc: 0.915 - ETA: 0s - loss: 0.2537 - acc: 0.913 - ETA: 0s - loss: 0.2528 - acc: 0.912 - 0s 111us/sample - loss: 0.2476 - acc: 0.9146\n",
      "Epoch 6/200\n",
      "3714/3714 [==============================] - ETA: 0s - loss: 0.2132 - acc: 0.937 - ETA: 0s - loss: 0.2770 - acc: 0.892 - ETA: 0s - loss: 0.2543 - acc: 0.907 - ETA: 0s - loss: 0.2508 - acc: 0.909 - ETA: 0s - loss: 0.2491 - acc: 0.909 - ETA: 0s - loss: 0.2509 - acc: 0.908 - ETA: 0s - loss: 0.2489 - acc: 0.908 - 0s 109us/sample - loss: 0.2357 - acc: 0.9146\n",
      "Epoch 7/200\n",
      "3714/3714 [==============================] - ETA: 0s - loss: 0.3367 - acc: 0.875 - ETA: 0s - loss: 0.2162 - acc: 0.926 - ETA: 0s - loss: 0.2077 - acc: 0.928 - ETA: 0s - loss: 0.2155 - acc: 0.923 - ETA: 0s - loss: 0.2173 - acc: 0.921 - ETA: 0s - loss: 0.2212 - acc: 0.919 - ETA: 0s - loss: 0.2223 - acc: 0.919 - ETA: 0s - loss: 0.2230 - acc: 0.918 - ETA: 0s - loss: 0.2261 - acc: 0.916 - ETA: 0s - loss: 0.2264 - acc: 0.916 - ETA: 0s - loss: 0.2265 - acc: 0.915 - ETA: 0s - loss: 0.2262 - acc: 0.915 - ETA: 0s - loss: 0.2271 - acc: 0.914 - ETA: 0s - loss: 0.2270 - acc: 0.914 - 1s 214us/sample - loss: 0.2257 - acc: 0.9146\n",
      "Epoch 8/200\n",
      "3714/3714 [==============================] - ETA: 0s - loss: 0.2785 - acc: 0.875 - ETA: 4s - loss: 0.2668 - acc: 0.890 - ETA: 2s - loss: 0.2224 - acc: 0.919 - ETA: 1s - loss: 0.2575 - acc: 0.891 - ETA: 0s - loss: 0.2312 - acc: 0.909 - ETA: 0s - loss: 0.2238 - acc: 0.913 - ETA: 0s - loss: 0.2168 - acc: 0.918 - ETA: 0s - loss: 0.2152 - acc: 0.918 - ETA: 0s - loss: 0.2181 - acc: 0.917 - ETA: 0s - loss: 0.2142 - acc: 0.918 - ETA: 0s - loss: 0.2167 - acc: 0.914 - 1s 174us/sample - loss: 0.2166 - acc: 0.9146\n",
      "Epoch 9/200\n",
      "3714/3714 [==============================] - ETA: 5s - loss: 0.0825 - acc: 1.000 - ETA: 0s - loss: 0.2250 - acc: 0.913 - ETA: 0s - loss: 0.2078 - acc: 0.917 - ETA: 0s - loss: 0.2177 - acc: 0.912 - ETA: 0s - loss: 0.2183 - acc: 0.912 - ETA: 0s - loss: 0.2156 - acc: 0.913 - ETA: 0s - loss: 0.2117 - acc: 0.915 - ETA: 0s - loss: 0.2087 - acc: 0.917 - ETA: 0s - loss: 0.2077 - acc: 0.916 - ETA: 0s - loss: 0.2073 - acc: 0.915 - 1s 175us/sample - loss: 0.2093 - acc: 0.9141\n",
      "Epoch 10/200\n",
      "3714/3714 [==============================] - ETA: 0s - loss: 0.2066 - acc: 0.937 - ETA: 1s - loss: 0.2227 - acc: 0.914 - ETA: 1s - loss: 0.2496 - acc: 0.901 - ETA: 1s - loss: 0.2215 - acc: 0.915 - ETA: 1s - loss: 0.1960 - acc: 0.927 - ETA: 0s - loss: 0.1955 - acc: 0.923 - ETA: 0s - loss: 0.1960 - acc: 0.921 - ETA: 0s - loss: 0.2054 - acc: 0.915 - ETA: 0s - loss: 0.2057 - acc: 0.913 - ETA: 0s - loss: 0.2028 - acc: 0.915 - 1s 139us/sample - loss: 0.2027 - acc: 0.9152\n",
      "Epoch 11/200\n",
      "3714/3714 [==============================] - ETA: 0s - loss: 0.0858 - acc: 0.968 - ETA: 1s - loss: 0.2029 - acc: 0.906 - ETA: 1s - loss: 0.1933 - acc: 0.906 - ETA: 0s - loss: 0.1969 - acc: 0.910 - ETA: 0s - loss: 0.1939 - acc: 0.915 - ETA: 0s - loss: 0.1985 - acc: 0.913 - ETA: 0s - loss: 0.1977 - acc: 0.913 - ETA: 0s - loss: 0.1969 - acc: 0.915 - ETA: 0s - loss: 0.1985 - acc: 0.913 - 1s 135us/sample - loss: 0.1980 - acc: 0.9141\n",
      "Epoch 12/200\n",
      "3714/3714 [==============================] - ETA: 0s - loss: 0.0878 - acc: 0.968 - ETA: 2s - loss: 0.2407 - acc: 0.875 - ETA: 0s - loss: 0.2029 - acc: 0.906 - ETA: 0s - loss: 0.1898 - acc: 0.910 - ETA: 0s - loss: 0.1998 - acc: 0.907 - ETA: 0s - loss: 0.1939 - acc: 0.911 - ETA: 0s - loss: 0.1942 - acc: 0.912 - 0s 97us/sample - loss: 0.1937 - acc: 0.9125\n",
      "Epoch 13/200\n",
      "3714/3714 [==============================] - ETA: 0s - loss: 0.2976 - acc: 0.843 - ETA: 2s - loss: 0.2459 - acc: 0.887 - ETA: 3s - loss: 0.2358 - acc: 0.890 - ETA: 3s - loss: 0.2299 - acc: 0.897 - ETA: 0s - loss: 0.2079 - acc: 0.903 - ETA: 0s - loss: 0.2050 - acc: 0.903 - ETA: 0s - loss: 0.1999 - acc: 0.907 - ETA: 0s - loss: 0.1949 - acc: 0.908 - 0s 131us/sample - loss: 0.1901 - acc: 0.9120\n",
      "Epoch 14/200\n",
      "3714/3714 [==============================] - ETA: 1s - loss: 0.1315 - acc: 0.968 - ETA: 0s - loss: 0.1935 - acc: 0.916 - ETA: 0s - loss: 0.1878 - acc: 0.910 - ETA: 0s - loss: 0.1853 - acc: 0.914 - ETA: 0s - loss: 0.1917 - acc: 0.908 - ETA: 0s - loss: 0.1869 - acc: 0.912 - ETA: 0s - loss: 0.1868 - acc: 0.911 - ETA: 0s - loss: 0.1869 - acc: 0.911 - ETA: 0s - loss: 0.1859 - acc: 0.912 - ETA: 0s - loss: 0.1857 - acc: 0.912 - ETA: 0s - loss: 0.1867 - acc: 0.911 - ETA: 0s - loss: 0.1861 - acc: 0.912 - ETA: 0s - loss: 0.1861 - acc: 0.912 - ETA: 0s - loss: 0.1856 - acc: 0.913 - ETA: 0s - loss: 0.1865 - acc: 0.912 - ETA: 0s - loss: 0.1877 - acc: 0.911 - ETA: 0s - loss: 0.1869 - acc: 0.912 - 1s 270us/sample - loss: 0.1876 - acc: 0.9117\n",
      "Epoch 15/200\n",
      "3714/3714 [==============================] - ETA: 0s - loss: 0.2546 - acc: 0.875 - ETA: 3s - loss: 0.2045 - acc: 0.906 - ETA: 4s - loss: 0.2190 - acc: 0.906 - ETA: 3s - loss: 0.1772 - acc: 0.925 - ETA: 3s - loss: 0.2167 - acc: 0.902 - ETA: 1s - loss: 0.1869 - acc: 0.913 - ETA: 1s - loss: 0.1933 - acc: 0.909 - ETA: 1s - loss: 0.1983 - acc: 0.907 - ETA: 1s - loss: 0.1998 - acc: 0.906 - ETA: 1s - loss: 0.2019 - acc: 0.905 - ETA: 1s - loss: 0.1949 - acc: 0.909 - ETA: 1s - loss: 0.1966 - acc: 0.907 - ETA: 1s - loss: 0.1967 - acc: 0.906 - ETA: 1s - loss: 0.1971 - acc: 0.907 - ETA: 1s - loss: 0.1921 - acc: 0.908 - ETA: 1s - loss: 0.1898 - acc: 0.909 - ETA: 1s - loss: 0.1907 - acc: 0.908 - ETA: 1s - loss: 0.1926 - acc: 0.908 - ETA: 1s - loss: 0.1920 - acc: 0.907 - ETA: 1s - loss: 0.1922 - acc: 0.907 - ETA: 0s - loss: 0.1910 - acc: 0.908 - ETA: 0s - loss: 0.1871 - acc: 0.911 - ETA: 0s - loss: 0.1872 - acc: 0.909 - 1s 362us/sample - loss: 0.1848 - acc: 0.9103\n",
      "Epoch 16/200\n",
      "3714/3714 [==============================] - ETA: 0s - loss: 0.2619 - acc: 0.906 - ETA: 0s - loss: 0.1870 - acc: 0.906 - ETA: 0s - loss: 0.1787 - acc: 0.914 - ETA: 0s - loss: 0.1870 - acc: 0.909 - ETA: 0s - loss: 0.1872 - acc: 0.909 - ETA: 0s - loss: 0.1866 - acc: 0.907 - ETA: 0s - loss: 0.1876 - acc: 0.908 - ETA: 0s - loss: 0.1849 - acc: 0.910 - ETA: 0s - loss: 0.1807 - acc: 0.911 - 0s 134us/sample - loss: 0.1827 - acc: 0.9106\n",
      "Epoch 17/200\n",
      "3714/3714 [==============================] - ETA: 0s - loss: 0.3087 - acc: 0.781 - ETA: 1s - loss: 0.1532 - acc: 0.921 - ETA: 0s - loss: 0.1682 - acc: 0.917 - ETA: 0s - loss: 0.1797 - acc: 0.907 - ETA: 0s - loss: 0.1863 - acc: 0.905 - ETA: 0s - loss: 0.1834 - acc: 0.909 - ETA: 0s - loss: 0.1840 - acc: 0.908 - ETA: 0s - loss: 0.1829 - acc: 0.909 - ETA: 0s - loss: 0.1816 - acc: 0.909 - ETA: 0s - loss: 0.1796 - acc: 0.911 - ETA: 0s - loss: 0.1804 - acc: 0.909 - ETA: 0s - loss: 0.1793 - acc: 0.910 - 1s 189us/sample - loss: 0.1808 - acc: 0.9087\n",
      "Epoch 18/200\n",
      "3714/3714 [==============================] - ETA: 8s - loss: 0.1512 - acc: 0.937 - ETA: 3s - loss: 0.1178 - acc: 0.945 - ETA: 0s - loss: 0.1720 - acc: 0.906 - ETA: 0s - loss: 0.1731 - acc: 0.908 - ETA: 0s - loss: 0.1709 - acc: 0.913 - ETA: 0s - loss: 0.1788 - acc: 0.910 - 0s 105us/sample - loss: 0.1792 - acc: 0.9098\n",
      "Epoch 19/200\n",
      "3714/3714 [==============================] - ETA: 0s - loss: 0.1100 - acc: 0.968 - ETA: 1s - loss: 0.1218 - acc: 0.945 - ETA: 0s - loss: 0.1759 - acc: 0.911 - ETA: 0s - loss: 0.1769 - acc: 0.913 - ETA: 0s - loss: 0.1776 - acc: 0.908 - 0s 74us/sample - loss: 0.1777 - acc: 0.9082\n",
      "Epoch 20/200\n",
      "3714/3714 [==============================] - ETA: 0s - loss: 0.2337 - acc: 0.875 - ETA: 1s - loss: 0.1743 - acc: 0.912 - ETA: 0s - loss: 0.1807 - acc: 0.903 - ETA: 0s - loss: 0.1813 - acc: 0.904 - ETA: 0s - loss: 0.1825 - acc: 0.901 - ETA: 0s - loss: 0.1784 - acc: 0.906 - ETA: 0s - loss: 0.1791 - acc: 0.907 - ETA: 0s - loss: 0.1814 - acc: 0.904 - ETA: 0s - loss: 0.1763 - acc: 0.908 - 1s 136us/sample - loss: 0.1761 - acc: 0.9093\n",
      "Epoch 21/200\n",
      "3714/3714 [==============================] - ETA: 2s - loss: 0.2105 - acc: 0.937 - ETA: 1s - loss: 0.1523 - acc: 0.929 - ETA: 0s - loss: 0.1509 - acc: 0.923 - ETA: 0s - loss: 0.1578 - acc: 0.916 - ETA: 0s - loss: 0.1697 - acc: 0.909 - ETA: 0s - loss: 0.1747 - acc: 0.909 - 0s 88us/sample - loss: 0.1747 - acc: 0.9090\n",
      "Epoch 22/200\n",
      "3714/3714 [==============================] - ETA: 2s - loss: 0.1696 - acc: 0.906 - ETA: 1s - loss: 0.1709 - acc: 0.914 - ETA: 0s - loss: 0.1786 - acc: 0.905 - ETA: 0s - loss: 0.1765 - acc: 0.906 - ETA: 0s - loss: 0.1695 - acc: 0.910 - ETA: 0s - loss: 0.1716 - acc: 0.911 - 0s 94us/sample - loss: 0.1733 - acc: 0.9111\n",
      "Epoch 23/200\n",
      "3714/3714 [==============================] - ETA: 0s - loss: 0.0678 - acc: 1.000 - ETA: 0s - loss: 0.1464 - acc: 0.926 - ETA: 0s - loss: 0.1614 - acc: 0.915 - ETA: 0s - loss: 0.1687 - acc: 0.912 - ETA: 0s - loss: 0.1675 - acc: 0.912 - ETA: 0s - loss: 0.1709 - acc: 0.908 - ETA: 0s - loss: 0.1712 - acc: 0.909 - ETA: 0s - loss: 0.1709 - acc: 0.909 - 0s 118us/sample - loss: 0.1727 - acc: 0.9085\n",
      "Epoch 24/200\n",
      "3714/3714 [==============================] - ETA: 1s - loss: 0.0976 - acc: 0.937 - ETA: 0s - loss: 0.1524 - acc: 0.921 - ETA: 0s - loss: 0.1812 - acc: 0.904 - ETA: 0s - loss: 0.1750 - acc: 0.904 - 0s 63us/sample - loss: 0.1718 - acc: 0.9085\n",
      "Epoch 25/200\n",
      "3714/3714 [==============================] - ETA: 0s - loss: 0.2578 - acc: 0.812 - ETA: 0s - loss: 0.1683 - acc: 0.903 - ETA: 0s - loss: 0.1735 - acc: 0.903 - ETA: 0s - loss: 0.1728 - acc: 0.904 - ETA: 0s - loss: 0.1678 - acc: 0.907 - ETA: 0s - loss: 0.1688 - acc: 0.907 - ETA: 0s - loss: 0.1692 - acc: 0.908 - 0s 103us/sample - loss: 0.1710 - acc: 0.9071\n",
      "Epoch 26/200\n",
      "3714/3714 [==============================] - ETA: 0s - loss: 0.1280 - acc: 0.968 - ETA: 0s - loss: 0.1942 - acc: 0.895 - ETA: 0s - loss: 0.1804 - acc: 0.901 - ETA: 0s - loss: 0.1833 - acc: 0.895 - ETA: 0s - loss: 0.1758 - acc: 0.898 - ETA: 0s - loss: 0.1679 - acc: 0.907 - ETA: 0s - loss: 0.1696 - acc: 0.906 - ETA: 0s - loss: 0.1718 - acc: 0.905 - 0s 121us/sample - loss: 0.1703 - acc: 0.9082\n",
      "Epoch 27/200\n",
      "3714/3714 [==============================] - ETA: 0s - loss: 0.0948 - acc: 1.000 - ETA: 1s - loss: 0.1349 - acc: 0.950 - ETA: 0s - loss: 0.1527 - acc: 0.917 - ETA: 0s - loss: 0.1589 - acc: 0.910 - ETA: 0s - loss: 0.1608 - acc: 0.911 - ETA: 0s - loss: 0.1662 - acc: 0.909 - ETA: 0s - loss: 0.1664 - acc: 0.911 - 0s 98us/sample - loss: 0.1693 - acc: 0.9087\n",
      "Epoch 28/200\n",
      "3714/3714 [==============================] - ETA: 2s - loss: 0.2549 - acc: 0.843 - ETA: 0s - loss: 0.1822 - acc: 0.906 - ETA: 0s - loss: 0.1770 - acc: 0.907 - ETA: 0s - loss: 0.1692 - acc: 0.907 - ETA: 0s - loss: 0.1734 - acc: 0.903 - ETA: 0s - loss: 0.1678 - acc: 0.908 - 0s 86us/sample - loss: 0.1685 - acc: 0.9087\n",
      "Epoch 29/200\n",
      "3714/3714 [==============================] - ETA: 0s - loss: 0.1962 - acc: 0.843 - ETA: 0s - loss: 0.1535 - acc: 0.917 - ETA: 0s - loss: 0.1614 - acc: 0.917 - ETA: 0s - loss: 0.1670 - acc: 0.913 - ETA: 0s - loss: 0.1706 - acc: 0.910 - 0s 77us/sample - loss: 0.1680 - acc: 0.9095\n",
      "Epoch 30/200\n",
      "3714/3714 [==============================] - ETA: 4s - loss: 0.1153 - acc: 0.937 - ETA: 0s - loss: 0.1676 - acc: 0.916 - ETA: 0s - loss: 0.1636 - acc: 0.909 - ETA: 0s - loss: 0.1681 - acc: 0.908 - ETA: 0s - loss: 0.1664 - acc: 0.908 - 0s 79us/sample - loss: 0.1674 - acc: 0.9085\n",
      "Epoch 31/200\n",
      "3714/3714 [==============================] - ETA: 0s - loss: 0.1293 - acc: 0.968 - ETA: 3s - loss: 0.1312 - acc: 0.953 - ETA: 0s - loss: 0.1523 - acc: 0.928 - ETA: 0s - loss: 0.1529 - acc: 0.920 - ETA: 0s - loss: 0.1581 - acc: 0.912 - ETA: 0s - loss: 0.1629 - acc: 0.911 - 0s 87us/sample - loss: 0.1668 - acc: 0.9079\n",
      "Epoch 32/200\n",
      "3714/3714 [==============================] - ETA: 2s - loss: 0.2025 - acc: 0.875 - ETA: 0s - loss: 0.1816 - acc: 0.904 - ETA: 0s - loss: 0.1750 - acc: 0.902 - ETA: 0s - loss: 0.1745 - acc: 0.902 - ETA: 0s - loss: 0.1771 - acc: 0.902 - ETA: 0s - loss: 0.1700 - acc: 0.905 - ETA: 0s - loss: 0.1647 - acc: 0.909 - 0s 104us/sample - loss: 0.1659 - acc: 0.9093\n",
      "Epoch 33/200\n",
      "3714/3714 [==============================] - ETA: 0s - loss: 0.1397 - acc: 0.906 - ETA: 3s - loss: 0.1909 - acc: 0.885 - ETA: 0s - loss: 0.1544 - acc: 0.914 - ETA: 0s - loss: 0.1684 - acc: 0.903 - ETA: 0s - loss: 0.1684 - acc: 0.904 - ETA: 0s - loss: 0.1681 - acc: 0.900 - ETA: 0s - loss: 0.1630 - acc: 0.909 - 0s 117us/sample - loss: 0.1658 - acc: 0.9093\n",
      "Epoch 34/200\n",
      "3714/3714 [==============================] - ETA: 2s - loss: 0.2125 - acc: 0.906 - ETA: 1s - loss: 0.1783 - acc: 0.906 - ETA: 0s - loss: 0.1629 - acc: 0.909 - ETA: 0s - loss: 0.1648 - acc: 0.910 - ETA: 0s - loss: 0.1631 - acc: 0.910 - 0s 80us/sample - loss: 0.1650 - acc: 0.9082\n",
      "Epoch 35/200\n",
      "3714/3714 [==============================] - ETA: 0s - loss: 0.2248 - acc: 0.843 - ETA: 0s - loss: 0.1653 - acc: 0.899 - ETA: 0s - loss: 0.1670 - acc: 0.905 - ETA: 0s - loss: 0.1668 - acc: 0.904 - ETA: 0s - loss: 0.1636 - acc: 0.909 - 0s 76us/sample - loss: 0.1645 - acc: 0.9087\n",
      "Epoch 36/200\n",
      "3714/3714 [==============================] - ETA: 0s - loss: 0.1744 - acc: 0.875 - ETA: 2s - loss: 0.1050 - acc: 0.937 - ETA: 3s - loss: 0.1120 - acc: 0.953 - ETA: 1s - loss: 0.1370 - acc: 0.927 - ETA: 1s - loss: 0.1605 - acc: 0.910 - ETA: 1s - loss: 0.1643 - acc: 0.906 - ETA: 2s - loss: 0.1711 - acc: 0.898 - ETA: 1s - loss: 0.1587 - acc: 0.908 - ETA: 1s - loss: 0.1611 - acc: 0.912 - ETA: 1s - loss: 0.1669 - acc: 0.905 - ETA: 0s - loss: 0.1657 - acc: 0.905 - ETA: 0s - loss: 0.1664 - acc: 0.903 - ETA: 0s - loss: 0.1648 - acc: 0.905 - ETA: 0s - loss: 0.1617 - acc: 0.909 - 1s 232us/sample - loss: 0.1645 - acc: 0.9068\n",
      "Epoch 37/200\n",
      "3714/3714 [==============================] - ETA: 7s - loss: 0.2425 - acc: 0.875 - ETA: 0s - loss: 0.1834 - acc: 0.898 - ETA: 0s - loss: 0.1687 - acc: 0.910 - ETA: 0s - loss: 0.1695 - acc: 0.911 - ETA: 0s - loss: 0.1640 - acc: 0.911 - ETA: 0s - loss: 0.1633 - acc: 0.910 - 0s 100us/sample - loss: 0.1639 - acc: 0.9101\n",
      "Epoch 38/200\n",
      "3714/3714 [==============================] - ETA: 0s - loss: 0.2288 - acc: 0.812 - ETA: 2s - loss: 0.1994 - acc: 0.875 - ETA: 0s - loss: 0.1642 - acc: 0.899 - ETA: 0s - loss: 0.1589 - acc: 0.912 - ETA: 0s - loss: 0.1584 - acc: 0.918 - ETA: 0s - loss: 0.1631 - acc: 0.914 - ETA: 0s - loss: 0.1647 - acc: 0.908 - ETA: 0s - loss: 0.1638 - acc: 0.909 - 0s 114us/sample - loss: 0.1632 - acc: 0.9090\n",
      "Epoch 39/200\n",
      "3714/3714 [==============================] - ETA: 5s - loss: 0.2252 - acc: 0.875 - ETA: 0s - loss: 0.1723 - acc: 0.895 - ETA: 0s - loss: 0.1624 - acc: 0.903 - ETA: 0s - loss: 0.1597 - acc: 0.910 - ETA: 0s - loss: 0.1629 - acc: 0.907 - ETA: 0s - loss: 0.1663 - acc: 0.905 - ETA: 0s - loss: 0.1638 - acc: 0.906 - 0s 117us/sample - loss: 0.1629 - acc: 0.9082\n",
      "Epoch 40/200\n",
      "3714/3714 [==============================] - ETA: 8s - loss: 0.1667 - acc: 0.906 - ETA: 0s - loss: 0.1664 - acc: 0.901 - ETA: 0s - loss: 0.1679 - acc: 0.909 - ETA: 0s - loss: 0.1624 - acc: 0.910 - ETA: 0s - loss: 0.1587 - acc: 0.912 - ETA: 0s - loss: 0.1636 - acc: 0.908 - ETA: 0s - loss: 0.1629 - acc: 0.909 - 0s 132us/sample - loss: 0.1626 - acc: 0.9101\n"
     ]
    },
    {
     "name": "stdout",
     "output_type": "stream",
     "text": [
      "Epoch 41/200\n",
      "3714/3714 [==============================] - ETA: 1s - loss: 0.0831 - acc: 0.968 - ETA: 1s - loss: 0.2068 - acc: 0.879 - ETA: 0s - loss: 0.1858 - acc: 0.894 - ETA: 0s - loss: 0.1809 - acc: 0.891 - ETA: 0s - loss: 0.1717 - acc: 0.899 - ETA: 0s - loss: 0.1654 - acc: 0.904 - 0s 99us/sample - loss: 0.1624 - acc: 0.9066\n",
      "Epoch 42/200\n",
      "3714/3714 [==============================] - ETA: 0s - loss: 0.0602 - acc: 0.968 - ETA: 0s - loss: 0.1439 - acc: 0.928 - ETA: 0s - loss: 0.1610 - acc: 0.908 - ETA: 0s - loss: 0.1623 - acc: 0.907 - 0s 59us/sample - loss: 0.1619 - acc: 0.9074\n",
      "Epoch 43/200\n",
      "3714/3714 [==============================] - ETA: 0s - loss: 0.1519 - acc: 0.937 - ETA: 0s - loss: 0.1577 - acc: 0.912 - ETA: 0s - loss: 0.1556 - acc: 0.913 - ETA: 0s - loss: 0.1597 - acc: 0.912 - 0s 64us/sample - loss: 0.1620 - acc: 0.9087\n",
      "Epoch 44/200\n",
      "3714/3714 [==============================] - ETA: 2s - loss: 0.1152 - acc: 0.968 - ETA: 0s - loss: 0.1598 - acc: 0.914 - ETA: 0s - loss: 0.1496 - acc: 0.917 - ETA: 0s - loss: 0.1539 - acc: 0.914 - ETA: 0s - loss: 0.1596 - acc: 0.909 - 0s 84us/sample - loss: 0.1612 - acc: 0.9087\n",
      "Epoch 45/200\n",
      "3714/3714 [==============================] - ETA: 1s - loss: 0.2047 - acc: 0.875 - ETA: 0s - loss: 0.1565 - acc: 0.912 - ETA: 0s - loss: 0.1488 - acc: 0.917 - ETA: 0s - loss: 0.1593 - acc: 0.910 - ETA: 0s - loss: 0.1569 - acc: 0.912 - ETA: 0s - loss: 0.1597 - acc: 0.909 - 0s 86us/sample - loss: 0.1612 - acc: 0.9076\n",
      "Epoch 46/200\n",
      "3714/3714 [==============================] - ETA: 0s - loss: 0.1466 - acc: 0.937 - ETA: 0s - loss: 0.1552 - acc: 0.909 - ETA: 0s - loss: 0.1605 - acc: 0.908 - ETA: 0s - loss: 0.1615 - acc: 0.907 - 0s 53us/sample - loss: 0.1607 - acc: 0.9074\n",
      "Epoch 47/200\n",
      "3714/3714 [==============================] - ETA: 0s - loss: 0.0948 - acc: 0.937 - ETA: 0s - loss: 0.1435 - acc: 0.906 - ETA: 0s - loss: 0.1444 - acc: 0.915 - ETA: 0s - loss: 0.1534 - acc: 0.908 - ETA: 0s - loss: 0.1561 - acc: 0.910 - 0s 75us/sample - loss: 0.1603 - acc: 0.9074\n",
      "Epoch 48/200\n",
      "3714/3714 [==============================] - ETA: 0s - loss: 0.1887 - acc: 0.875 - ETA: 0s - loss: 0.1660 - acc: 0.888 - ETA: 0s - loss: 0.1621 - acc: 0.905 - ETA: 0s - loss: 0.1574 - acc: 0.908 - 0s 60us/sample - loss: 0.1599 - acc: 0.9093\n",
      "Epoch 49/200\n",
      "3714/3714 [==============================] - ETA: 0s - loss: 0.1418 - acc: 0.937 - ETA: 0s - loss: 0.1596 - acc: 0.895 - ETA: 0s - loss: 0.1561 - acc: 0.906 - ETA: 0s - loss: 0.1612 - acc: 0.905 - ETA: 0s - loss: 0.1604 - acc: 0.908 - 0s 66us/sample - loss: 0.1605 - acc: 0.9082\n",
      "Epoch 50/200\n",
      "3714/3714 [==============================] - ETA: 0s - loss: 0.2202 - acc: 0.875 - ETA: 0s - loss: 0.1745 - acc: 0.896 - ETA: 0s - loss: 0.1605 - acc: 0.910 - ETA: 0s - loss: 0.1636 - acc: 0.905 - ETA: 0s - loss: 0.1611 - acc: 0.906 - 0s 61us/sample - loss: 0.1595 - acc: 0.9066\n",
      "Epoch 51/200\n",
      "3714/3714 [==============================] - ETA: 0s - loss: 0.1377 - acc: 0.906 - ETA: 2s - loss: 0.1501 - acc: 0.906 - ETA: 0s - loss: 0.1504 - acc: 0.912 - ETA: 0s - loss: 0.1616 - acc: 0.908 - ETA: 0s - loss: 0.1602 - acc: 0.909 - 0s 80us/sample - loss: 0.1594 - acc: 0.9087\n",
      "Epoch 52/200\n",
      "3714/3714 [==============================] - ETA: 1s - loss: 0.1665 - acc: 0.906 - ETA: 0s - loss: 0.1601 - acc: 0.910 - ETA: 0s - loss: 0.1608 - acc: 0.907 - ETA: 0s - loss: 0.1572 - acc: 0.909 - 0s 59us/sample - loss: 0.1590 - acc: 0.9085\n",
      "Epoch 53/200\n",
      "3714/3714 [==============================] - ETA: 1s - loss: 0.1420 - acc: 0.906 - ETA: 2s - loss: 0.1604 - acc: 0.906 - ETA: 0s - loss: 0.1608 - acc: 0.907 - ETA: 0s - loss: 0.1604 - acc: 0.907 - ETA: 0s - loss: 0.1622 - acc: 0.906 - ETA: 0s - loss: 0.1579 - acc: 0.909 - 0s 90us/sample - loss: 0.1590 - acc: 0.9095\n",
      "Epoch 54/200\n",
      "3714/3714 [==============================] - ETA: 5s - loss: 0.1684 - acc: 0.906 - ETA: 0s - loss: 0.1487 - acc: 0.908 - ETA: 0s - loss: 0.1544 - acc: 0.909 - ETA: 0s - loss: 0.1595 - acc: 0.906 - ETA: 0s - loss: 0.1617 - acc: 0.906 - 0s 83us/sample - loss: 0.1586 - acc: 0.9090\n",
      "Epoch 55/200\n",
      "3714/3714 [==============================] - ETA: 1s - loss: 0.2280 - acc: 0.812 - ETA: 0s - loss: 0.1546 - acc: 0.903 - ETA: 0s - loss: 0.1550 - acc: 0.906 - ETA: 0s - loss: 0.1569 - acc: 0.907 - ETA: 0s - loss: 0.1574 - acc: 0.908 - 0s 70us/sample - loss: 0.1580 - acc: 0.9090\n",
      "Epoch 56/200\n",
      "3714/3714 [==============================] - ETA: 0s - loss: 0.1238 - acc: 0.906 - ETA: 2s - loss: 0.2001 - acc: 0.882 - ETA: 0s - loss: 0.1648 - acc: 0.910 - ETA: 0s - loss: 0.1582 - acc: 0.913 - ETA: 0s - loss: 0.1567 - acc: 0.911 - ETA: 0s - loss: 0.1571 - acc: 0.910 - 0s 91us/sample - loss: 0.1582 - acc: 0.9095\n",
      "Epoch 57/200\n",
      "3714/3714 [==============================] - ETA: 1s - loss: 0.2393 - acc: 0.812 - ETA: 4s - loss: 0.1881 - acc: 0.859 - ETA: 0s - loss: 0.1635 - acc: 0.903 - ETA: 0s - loss: 0.1634 - acc: 0.902 - ETA: 0s - loss: 0.1574 - acc: 0.906 - 0s 80us/sample - loss: 0.1583 - acc: 0.9058\n",
      "Epoch 58/200\n",
      "3714/3714 [==============================] - ETA: 0s - loss: 0.2369 - acc: 0.843 - ETA: 0s - loss: 0.1522 - acc: 0.909 - ETA: 0s - loss: 0.1528 - acc: 0.917 - ETA: 0s - loss: 0.1577 - acc: 0.909 - ETA: 0s - loss: 0.1561 - acc: 0.911 - 0s 73us/sample - loss: 0.1576 - acc: 0.9098\n",
      "Epoch 59/200\n",
      "3714/3714 [==============================] - ETA: 0s - loss: 0.0656 - acc: 0.968 - ETA: 0s - loss: 0.1554 - acc: 0.906 - ETA: 0s - loss: 0.1575 - acc: 0.906 - ETA: 0s - loss: 0.1592 - acc: 0.907 - 0s 59us/sample - loss: 0.1572 - acc: 0.9074\n",
      "Epoch 60/200\n",
      "3714/3714 [==============================] - ETA: 0s - loss: 0.1407 - acc: 0.937 - ETA: 3s - loss: 0.1494 - acc: 0.921 - ETA: 1s - loss: 0.1252 - acc: 0.940 - ETA: 1s - loss: 0.1283 - acc: 0.937 - ETA: 0s - loss: 0.1531 - acc: 0.914 - ETA: 0s - loss: 0.1610 - acc: 0.908 - ETA: 0s - loss: 0.1570 - acc: 0.910 - 0s 102us/sample - loss: 0.1568 - acc: 0.9109\n",
      "Epoch 61/200\n",
      "3714/3714 [==============================] - ETA: 1s - loss: 0.1986 - acc: 0.906 - ETA: 5s - loss: 0.1557 - acc: 0.921 - ETA: 0s - loss: 0.1629 - acc: 0.909 - ETA: 0s - loss: 0.1568 - acc: 0.904 - ETA: 0s - loss: 0.1599 - acc: 0.903 - ETA: 0s - loss: 0.1566 - acc: 0.907 - 0s 93us/sample - loss: 0.1570 - acc: 0.9090\n",
      "Epoch 62/200\n",
      "3714/3714 [==============================] - ETA: 0s - loss: 0.0797 - acc: 0.968 - ETA: 4s - loss: 0.0932 - acc: 0.937 - ETA: 0s - loss: 0.1528 - acc: 0.913 - ETA: 0s - loss: 0.1523 - acc: 0.911 - ETA: 0s - loss: 0.1548 - acc: 0.910 - ETA: 0s - loss: 0.1543 - acc: 0.912 - 0s 91us/sample - loss: 0.1565 - acc: 0.9111\n",
      "Epoch 63/200\n",
      "3714/3714 [==============================] - ETA: 0s - loss: 0.1152 - acc: 0.906 - ETA: 3s - loss: 0.1052 - acc: 0.937 - ETA: 2s - loss: 0.1063 - acc: 0.937 - ETA: 0s - loss: 0.1355 - acc: 0.924 - ETA: 0s - loss: 0.1432 - acc: 0.922 - ETA: 0s - loss: 0.1535 - acc: 0.913 - ETA: 0s - loss: 0.1576 - acc: 0.908 - 0s 109us/sample - loss: 0.1564 - acc: 0.9090\n",
      "Epoch 64/200\n",
      "3714/3714 [==============================] - ETA: 1s - loss: 0.1441 - acc: 0.937 - ETA: 0s - loss: 0.1409 - acc: 0.910 - ETA: 0s - loss: 0.1497 - acc: 0.914 - ETA: 0s - loss: 0.1475 - acc: 0.917 - ETA: 0s - loss: 0.1457 - acc: 0.917 - ETA: 0s - loss: 0.1449 - acc: 0.917 - ETA: 0s - loss: 0.1472 - acc: 0.914 - ETA: 0s - loss: 0.1467 - acc: 0.914 - ETA: 0s - loss: 0.1486 - acc: 0.912 - ETA: 0s - loss: 0.1477 - acc: 0.912 - ETA: 0s - loss: 0.1573 - acc: 0.908 - ETA: 0s - loss: 0.1557 - acc: 0.910 - 1s 181us/sample - loss: 0.1562 - acc: 0.9090\n",
      "Epoch 65/200\n",
      "3714/3714 [==============================] - ETA: 0s - loss: 0.1278 - acc: 0.906 - ETA: 0s - loss: 0.1532 - acc: 0.907 - ETA: 0s - loss: 0.1471 - acc: 0.912 - ETA: 0s - loss: 0.1467 - acc: 0.912 - ETA: 0s - loss: 0.1544 - acc: 0.908 - 0s 72us/sample - loss: 0.1560 - acc: 0.9087\n",
      "Epoch 66/200\n",
      "3714/3714 [==============================] - ETA: 2s - loss: 0.0730 - acc: 0.937 - ETA: 1s - loss: 0.1128 - acc: 0.931 - ETA: 2s - loss: 0.1210 - acc: 0.916 - ETA: 2s - loss: 0.1374 - acc: 0.914 - ETA: 2s - loss: 0.1497 - acc: 0.903 - ETA: 2s - loss: 0.1512 - acc: 0.901 - ETA: 3s - loss: 0.1532 - acc: 0.903 - ETA: 3s - loss: 0.1476 - acc: 0.908 - ETA: 3s - loss: 0.1462 - acc: 0.908 - ETA: 3s - loss: 0.1447 - acc: 0.910 - ETA: 1s - loss: 0.1527 - acc: 0.906 - ETA: 0s - loss: 0.1580 - acc: 0.907 - ETA: 0s - loss: 0.1598 - acc: 0.906 - ETA: 0s - loss: 0.1557 - acc: 0.910 - 1s 236us/sample - loss: 0.1558 - acc: 0.9101\n",
      "Epoch 67/200\n",
      "3714/3714 [==============================] - ETA: 0s - loss: 0.3112 - acc: 0.812 - ETA: 0s - loss: 0.1748 - acc: 0.897 - ETA: 0s - loss: 0.1609 - acc: 0.906 - ETA: 0s - loss: 0.1572 - acc: 0.910 - 0s 65us/sample - loss: 0.1555 - acc: 0.9117\n",
      "Epoch 68/200\n",
      "3714/3714 [==============================] - ETA: 0s - loss: 0.1180 - acc: 0.937 - ETA: 0s - loss: 0.1796 - acc: 0.903 - ETA: 0s - loss: 0.1574 - acc: 0.910 - ETA: 0s - loss: 0.1564 - acc: 0.909 - ETA: 0s - loss: 0.1552 - acc: 0.913 - 0s 75us/sample - loss: 0.1557 - acc: 0.9111\n",
      "Epoch 69/200\n",
      "3714/3714 [==============================] - ETA: 0s - loss: 0.0287 - acc: 1.000 - ETA: 0s - loss: 0.1364 - acc: 0.918 - ETA: 0s - loss: 0.1450 - acc: 0.919 - ETA: 0s - loss: 0.1487 - acc: 0.918 - ETA: 0s - loss: 0.1557 - acc: 0.909 - 0s 72us/sample - loss: 0.1552 - acc: 0.9095\n",
      "Epoch 70/200\n",
      "3714/3714 [==============================] - ETA: 0s - loss: 0.4090 - acc: 0.812 - ETA: 0s - loss: 0.1675 - acc: 0.907 - ETA: 0s - loss: 0.1575 - acc: 0.911 - ETA: 0s - loss: 0.1594 - acc: 0.910 - ETA: 0s - loss: 0.1555 - acc: 0.910 - 0s 71us/sample - loss: 0.1552 - acc: 0.9103\n",
      "Epoch 71/200\n",
      "3714/3714 [==============================] - ETA: 3s - loss: 0.1387 - acc: 0.906 - ETA: 0s - loss: 0.1439 - acc: 0.909 - ETA: 0s - loss: 0.1527 - acc: 0.905 - ETA: 0s - loss: 0.1481 - acc: 0.912 - ETA: 0s - loss: 0.1545 - acc: 0.907 - 0s 76us/sample - loss: 0.1548 - acc: 0.9071\n",
      "Epoch 72/200\n",
      "3714/3714 [==============================] - ETA: 1s - loss: 0.1915 - acc: 0.937 - ETA: 0s - loss: 0.1434 - acc: 0.922 - ETA: 0s - loss: 0.1551 - acc: 0.915 - ETA: 0s - loss: 0.1485 - acc: 0.921 - ETA: 0s - loss: 0.1469 - acc: 0.920 - ETA: 0s - loss: 0.1504 - acc: 0.916 - ETA: 0s - loss: 0.1542 - acc: 0.912 - ETA: 0s - loss: 0.1542 - acc: 0.909 - 0s 124us/sample - loss: 0.1550 - acc: 0.9085\n",
      "Epoch 73/200\n",
      "3714/3714 [==============================] - ETA: 2s - loss: 0.1272 - acc: 0.906 - ETA: 0s - loss: 0.1753 - acc: 0.902 - ETA: 0s - loss: 0.1576 - acc: 0.906 - ETA: 0s - loss: 0.1549 - acc: 0.907 - ETA: 0s - loss: 0.1581 - acc: 0.905 - ETA: 0s - loss: 0.1537 - acc: 0.908 - 0s 92us/sample - loss: 0.1547 - acc: 0.9079\n",
      "Epoch 74/200\n",
      "3714/3714 [==============================] - ETA: 4s - loss: 0.1600 - acc: 0.875 - ETA: 0s - loss: 0.1592 - acc: 0.911 - ETA: 0s - loss: 0.1549 - acc: 0.909 - ETA: 0s - loss: 0.1532 - acc: 0.915 - ETA: 0s - loss: 0.1534 - acc: 0.912 - 0s 80us/sample - loss: 0.1545 - acc: 0.9106\n",
      "Epoch 75/200\n",
      "3714/3714 [==============================] - ETA: 0s - loss: 0.1557 - acc: 0.906 - ETA: 0s - loss: 0.1406 - acc: 0.925 - ETA: 0s - loss: 0.1469 - acc: 0.914 - ETA: 0s - loss: 0.1523 - acc: 0.912 - ETA: 0s - loss: 0.1538 - acc: 0.909 - 0s 77us/sample - loss: 0.1544 - acc: 0.9090\n",
      "Epoch 76/200\n",
      "3714/3714 [==============================] - ETA: 3s - loss: 0.1815 - acc: 0.906 - ETA: 0s - loss: 0.1266 - acc: 0.937 - ETA: 0s - loss: 0.1514 - acc: 0.915 - ETA: 0s - loss: 0.1537 - acc: 0.911 - ETA: 0s - loss: 0.1550 - acc: 0.910 - ETA: 0s - loss: 0.1531 - acc: 0.911 - 0s 96us/sample - loss: 0.1541 - acc: 0.9120\n",
      "Epoch 77/200\n",
      "3714/3714 [==============================] - ETA: 4s - loss: 0.1413 - acc: 0.937 - ETA: 0s - loss: 0.1732 - acc: 0.903 - ETA: 0s - loss: 0.1671 - acc: 0.901 - ETA: 0s - loss: 0.1706 - acc: 0.899 - ETA: 0s - loss: 0.1608 - acc: 0.907 - ETA: 0s - loss: 0.1606 - acc: 0.905 - ETA: 0s - loss: 0.1567 - acc: 0.908 - 0s 114us/sample - loss: 0.1539 - acc: 0.9095\n",
      "Epoch 78/200\n",
      "3714/3714 [==============================] - ETA: 0s - loss: 0.1515 - acc: 0.906 - ETA: 0s - loss: 0.1565 - acc: 0.904 - ETA: 0s - loss: 0.1631 - acc: 0.900 - ETA: 0s - loss: 0.1592 - acc: 0.905 - ETA: 0s - loss: 0.1552 - acc: 0.909 - 0s 76us/sample - loss: 0.1540 - acc: 0.9106\n",
      "Epoch 79/200\n",
      "3714/3714 [==============================] - ETA: 0s - loss: 0.1689 - acc: 0.937 - ETA: 0s - loss: 0.1518 - acc: 0.914 - ETA: 0s - loss: 0.1504 - acc: 0.914 - ETA: 0s - loss: 0.1567 - acc: 0.911 - ETA: 0s - loss: 0.1500 - acc: 0.915 - 0s 77us/sample - loss: 0.1536 - acc: 0.9130\n",
      "Epoch 80/200\n",
      "3714/3714 [==============================] - ETA: 0s - loss: 0.1852 - acc: 0.843 - ETA: 0s - loss: 0.1721 - acc: 0.895 - ETA: 0s - loss: 0.1628 - acc: 0.907 - ETA: 0s - loss: 0.1604 - acc: 0.906 - ETA: 0s - loss: 0.1638 - acc: 0.904 - ETA: 0s - loss: 0.1574 - acc: 0.906 - ETA: 0s - loss: 0.1540 - acc: 0.909 - ETA: 0s - loss: 0.1544 - acc: 0.909 - ETA: 0s - loss: 0.1536 - acc: 0.910 - 0s 134us/sample - loss: 0.1535 - acc: 0.9106\n",
      "Epoch 81/200\n",
      "3714/3714 [==============================] - ETA: 1s - loss: 0.1519 - acc: 0.875 - ETA: 2s - loss: 0.1775 - acc: 0.875 - ETA: 2s - loss: 0.1548 - acc: 0.895 - ETA: 0s - loss: 0.1640 - acc: 0.894 - ETA: 1s - loss: 0.1595 - acc: 0.900 - ETA: 1s - loss: 0.1608 - acc: 0.899 - ETA: 1s - loss: 0.1585 - acc: 0.902 - ETA: 1s - loss: 0.1580 - acc: 0.904 - ETA: 1s - loss: 0.1599 - acc: 0.904 - ETA: 1s - loss: 0.1580 - acc: 0.904 - ETA: 0s - loss: 0.1467 - acc: 0.912 - ETA: 0s - loss: 0.1488 - acc: 0.913 - 1s 200us/sample - loss: 0.1536 - acc: 0.9085\n",
      "Epoch 82/200\n",
      "3714/3714 [==============================] - ETA: 0s - loss: 0.1890 - acc: 0.875 - ETA: 0s - loss: 0.1522 - acc: 0.911 - ETA: 0s - loss: 0.1582 - acc: 0.910 - ETA: 0s - loss: 0.1583 - acc: 0.908 - ETA: 0s - loss: 0.1589 - acc: 0.907 - ETA: 0s - loss: 0.1548 - acc: 0.911 - ETA: 0s - loss: 0.1563 - acc: 0.911 - ETA: 0s - loss: 0.1543 - acc: 0.911 - ETA: 0s - loss: 0.1542 - acc: 0.911 - 1s 135us/sample - loss: 0.1534 - acc: 0.9103\n",
      "Epoch 83/200\n",
      "3714/3714 [==============================] - ETA: 3s - loss: 0.1266 - acc: 0.906 - ETA: 3s - loss: 0.1779 - acc: 0.854 - ETA: 2s - loss: 0.1685 - acc: 0.886 - ETA: 0s - loss: 0.1639 - acc: 0.906 - ETA: 1s - loss: 0.1587 - acc: 0.905 - ETA: 0s - loss: 0.1581 - acc: 0.904 - ETA: 0s - loss: 0.1563 - acc: 0.907 - ETA: 0s - loss: 0.1522 - acc: 0.909 - ETA: 0s - loss: 0.1493 - acc: 0.910 - ETA: 0s - loss: 0.1458 - acc: 0.912 - ETA: 0s - loss: 0.1524 - acc: 0.912 - 1s 179us/sample - loss: 0.1530 - acc: 0.9111\n",
      "Epoch 84/200\n",
      "3714/3714 [==============================] - ETA: 0s - loss: 0.1665 - acc: 0.937 - ETA: 1s - loss: 0.1754 - acc: 0.912 - ETA: 1s - loss: 0.1634 - acc: 0.919 - ETA: 0s - loss: 0.1479 - acc: 0.913 - ETA: 0s - loss: 0.1624 - acc: 0.895 - ETA: 0s - loss: 0.1575 - acc: 0.904 - ETA: 0s - loss: 0.1530 - acc: 0.907 - 0s 110us/sample - loss: 0.1531 - acc: 0.9076\n",
      "Epoch 85/200\n",
      "3714/3714 [==============================] - ETA: 0s - loss: 0.2124 - acc: 0.875 - ETA: 2s - loss: 0.1571 - acc: 0.895 - ETA: 2s - loss: 0.1692 - acc: 0.881 - ETA: 2s - loss: 0.1575 - acc: 0.892 - ETA: 2s - loss: 0.1612 - acc: 0.897 - ETA: 2s - loss: 0.1495 - acc: 0.908 - ETA: 1s - loss: 0.1441 - acc: 0.912 - ETA: 0s - loss: 0.1537 - acc: 0.903 - ETA: 0s - loss: 0.1498 - acc: 0.910 - ETA: 0s - loss: 0.1530 - acc: 0.910 - 1s 162us/sample - loss: 0.1531 - acc: 0.9093\n",
      "Epoch 86/200\n",
      "3714/3714 [==============================] - ETA: 2s - loss: 0.0541 - acc: 0.937 - ETA: 4s - loss: 0.1777 - acc: 0.875 - ETA: 1s - loss: 0.1408 - acc: 0.917 - ETA: 0s - loss: 0.1595 - acc: 0.911 - ETA: 0s - loss: 0.1518 - acc: 0.915 - ETA: 0s - loss: 0.1533 - acc: 0.912 - ETA: 0s - loss: 0.1493 - acc: 0.915 - ETA: 0s - loss: 0.1506 - acc: 0.914 - ETA: 0s - loss: 0.1536 - acc: 0.910 - 1s 149us/sample - loss: 0.1528 - acc: 0.9111\n",
      "Epoch 87/200\n"
     ]
    },
    {
     "name": "stdout",
     "output_type": "stream",
     "text": [
      "3714/3714 [==============================] - ETA: 1s - loss: 0.0753 - acc: 0.937 - ETA: 2s - loss: 0.1233 - acc: 0.906 - ETA: 1s - loss: 0.1148 - acc: 0.933 - ETA: 1s - loss: 0.1329 - acc: 0.933 - ETA: 0s - loss: 0.1502 - acc: 0.916 - ETA: 0s - loss: 0.1466 - acc: 0.915 - ETA: 0s - loss: 0.1430 - acc: 0.916 - ETA: 0s - loss: 0.1451 - acc: 0.916 - 0s 128us/sample - loss: 0.1526 - acc: 0.9090\n",
      "Epoch 88/200\n",
      "3714/3714 [==============================] - ETA: 1s - loss: 0.1754 - acc: 0.906 - ETA: 0s - loss: 0.1696 - acc: 0.904 - ETA: 0s - loss: 0.1569 - acc: 0.901 - ETA: 0s - loss: 0.1614 - acc: 0.898 - ETA: 0s - loss: 0.1519 - acc: 0.906 - ETA: 0s - loss: 0.1514 - acc: 0.909 - 0s 81us/sample - loss: 0.1520 - acc: 0.9098\n",
      "Epoch 89/200\n",
      "3714/3714 [==============================] - ETA: 1s - loss: 0.1187 - acc: 0.968 - ETA: 0s - loss: 0.1682 - acc: 0.900 - ETA: 0s - loss: 0.1527 - acc: 0.912 - ETA: 0s - loss: 0.1535 - acc: 0.910 - ETA: 0s - loss: 0.1530 - acc: 0.909 - 0s 73us/sample - loss: 0.1523 - acc: 0.9093\n",
      "Epoch 90/200\n",
      "3714/3714 [==============================] - ETA: 2s - loss: 0.1890 - acc: 0.906 - ETA: 0s - loss: 0.1550 - acc: 0.910 - ETA: 0s - loss: 0.1570 - acc: 0.912 - ETA: 0s - loss: 0.1514 - acc: 0.915 - ETA: 0s - loss: 0.1516 - acc: 0.914 - ETA: 0s - loss: 0.1519 - acc: 0.913 - 0s 90us/sample - loss: 0.1522 - acc: 0.9125\n",
      "Epoch 91/200\n",
      "3714/3714 [==============================] - ETA: 1s - loss: 0.1037 - acc: 0.937 - ETA: 2s - loss: 0.1575 - acc: 0.885 - ETA: 1s - loss: 0.1402 - acc: 0.909 - ETA: 0s - loss: 0.1583 - acc: 0.901 - ETA: 0s - loss: 0.1527 - acc: 0.905 - ETA: 0s - loss: 0.1524 - acc: 0.907 - 0s 92us/sample - loss: 0.1518 - acc: 0.9093\n",
      "Epoch 92/200\n",
      "3714/3714 [==============================] - ETA: 0s - loss: 0.1976 - acc: 0.812 - ETA: 0s - loss: 0.1548 - acc: 0.904 - ETA: 0s - loss: 0.1453 - acc: 0.914 - ETA: 0s - loss: 0.1477 - acc: 0.913 - 0s 59us/sample - loss: 0.1523 - acc: 0.9109\n",
      "Epoch 93/200\n",
      "3714/3714 [==============================] - ETA: 1s - loss: 0.1647 - acc: 0.906 - ETA: 0s - loss: 0.1558 - acc: 0.903 - ETA: 0s - loss: 0.1515 - acc: 0.907 - ETA: 0s - loss: 0.1570 - acc: 0.905 - ETA: 0s - loss: 0.1530 - acc: 0.909 - 0s 81us/sample - loss: 0.1518 - acc: 0.9087\n",
      "Epoch 94/200\n",
      "3714/3714 [==============================] - ETA: 0s - loss: 0.2832 - acc: 0.812 - ETA: 0s - loss: 0.1364 - acc: 0.924 - ETA: 0s - loss: 0.1436 - acc: 0.919 - ETA: 0s - loss: 0.1470 - acc: 0.914 - ETA: 0s - loss: 0.1474 - acc: 0.914 - ETA: 0s - loss: 0.1511 - acc: 0.911 - 0s 92us/sample - loss: 0.1516 - acc: 0.9114\n",
      "Epoch 95/200\n",
      "3714/3714 [==============================] - ETA: 2s - loss: 0.1216 - acc: 0.937 - ETA: 0s - loss: 0.1511 - acc: 0.915 - ETA: 0s - loss: 0.1491 - acc: 0.920 - ETA: 0s - loss: 0.1536 - acc: 0.912 - ETA: 0s - loss: 0.1545 - acc: 0.907 - 0s 77us/sample - loss: 0.1516 - acc: 0.9111\n",
      "Epoch 96/200\n",
      "3714/3714 [==============================] - ETA: 0s - loss: 0.1925 - acc: 0.875 - ETA: 1s - loss: 0.1634 - acc: 0.897 - ETA: 0s - loss: 0.1391 - acc: 0.917 - ETA: 0s - loss: 0.1465 - acc: 0.912 - ETA: 0s - loss: 0.1465 - acc: 0.915 - ETA: 0s - loss: 0.1465 - acc: 0.917 - ETA: 0s - loss: 0.1463 - acc: 0.916 - 0s 109us/sample - loss: 0.1512 - acc: 0.9125\n",
      "Epoch 97/200\n",
      "3714/3714 [==============================] - ETA: 0s - loss: 0.1272 - acc: 0.906 - ETA: 0s - loss: 0.1581 - acc: 0.906 - ETA: 0s - loss: 0.1599 - acc: 0.907 - ETA: 0s - loss: 0.1587 - acc: 0.909 - ETA: 0s - loss: 0.1544 - acc: 0.911 - ETA: 0s - loss: 0.1507 - acc: 0.913 - ETA: 0s - loss: 0.1519 - acc: 0.910 - 0s 102us/sample - loss: 0.1515 - acc: 0.9095\n",
      "Epoch 98/200\n",
      "3714/3714 [==============================] - ETA: 0s - loss: 0.1017 - acc: 0.906 - ETA: 0s - loss: 0.1257 - acc: 0.920 - ETA: 0s - loss: 0.1338 - acc: 0.928 - ETA: 0s - loss: 0.1463 - acc: 0.917 - ETA: 0s - loss: 0.1518 - acc: 0.913 - 0s 73us/sample - loss: 0.1513 - acc: 0.9128\n",
      "Epoch 99/200\n",
      "3714/3714 [==============================] - ETA: 0s - loss: 0.1267 - acc: 0.937 - ETA: 2s - loss: 0.1514 - acc: 0.906 - ETA: 0s - loss: 0.1563 - acc: 0.914 - ETA: 0s - loss: 0.1513 - acc: 0.907 - ETA: 0s - loss: 0.1486 - acc: 0.911 - ETA: 0s - loss: 0.1506 - acc: 0.908 - ETA: 0s - loss: 0.1523 - acc: 0.909 - 0s 102us/sample - loss: 0.1512 - acc: 0.9103\n",
      "Epoch 100/200\n",
      "3714/3714 [==============================] - ETA: 0s - loss: 0.1874 - acc: 0.875 - ETA: 3s - loss: 0.1250 - acc: 0.906 - ETA: 3s - loss: 0.1543 - acc: 0.887 - ETA: 1s - loss: 0.1366 - acc: 0.921 - ETA: 1s - loss: 0.1399 - acc: 0.916 - ETA: 1s - loss: 0.1533 - acc: 0.905 - ETA: 0s - loss: 0.1572 - acc: 0.907 - ETA: 0s - loss: 0.1545 - acc: 0.908 - ETA: 0s - loss: 0.1547 - acc: 0.909 - ETA: 0s - loss: 0.1503 - acc: 0.914 - 1s 156us/sample - loss: 0.1511 - acc: 0.9133\n",
      "Epoch 101/200\n",
      "3714/3714 [==============================] - ETA: 6s - loss: 0.1478 - acc: 0.906 - ETA: 1s - loss: 0.1531 - acc: 0.906 - ETA: 0s - loss: 0.1555 - acc: 0.899 - ETA: 0s - loss: 0.1457 - acc: 0.913 - ETA: 0s - loss: 0.1459 - acc: 0.913 - ETA: 0s - loss: 0.1499 - acc: 0.912 - 0s 95us/sample - loss: 0.1510 - acc: 0.9106\n",
      "Epoch 102/200\n",
      "3714/3714 [==============================] - ETA: 2s - loss: 0.2182 - acc: 0.843 - ETA: 0s - loss: 0.1387 - acc: 0.930 - ETA: 0s - loss: 0.1462 - acc: 0.921 - ETA: 0s - loss: 0.1476 - acc: 0.916 - ETA: 0s - loss: 0.1506 - acc: 0.912 - 0s 83us/sample - loss: 0.1510 - acc: 0.9120\n",
      "Epoch 103/200\n",
      "3714/3714 [==============================] - ETA: 1s - loss: 0.1846 - acc: 0.937 - ETA: 0s - loss: 0.1472 - acc: 0.920 - ETA: 0s - loss: 0.1481 - acc: 0.915 - ETA: 0s - loss: 0.1529 - acc: 0.911 - 0s 65us/sample - loss: 0.1508 - acc: 0.9117\n",
      "Epoch 104/200\n",
      "3714/3714 [==============================] - ETA: 2s - loss: 0.1373 - acc: 0.937 - ETA: 0s - loss: 0.1500 - acc: 0.910 - ETA: 0s - loss: 0.1465 - acc: 0.916 - ETA: 0s - loss: 0.1527 - acc: 0.910 - ETA: 0s - loss: 0.1501 - acc: 0.913 - 0s 73us/sample - loss: 0.1509 - acc: 0.9122\n",
      "Epoch 105/200\n",
      "3714/3714 [==============================] - ETA: 6s - loss: 0.2215 - acc: 0.843 - ETA: 0s - loss: 0.1578 - acc: 0.904 - ETA: 0s - loss: 0.1607 - acc: 0.908 - ETA: 0s - loss: 0.1537 - acc: 0.910 - ETA: 0s - loss: 0.1507 - acc: 0.913 - 0s 82us/sample - loss: 0.1505 - acc: 0.9130\n",
      "Epoch 106/200\n",
      "3714/3714 [==============================] - ETA: 1s - loss: 0.1165 - acc: 0.937 - ETA: 0s - loss: 0.1748 - acc: 0.887 - ETA: 0s - loss: 0.1558 - acc: 0.902 - ETA: 0s - loss: 0.1519 - acc: 0.909 - ETA: 0s - loss: 0.1500 - acc: 0.911 - ETA: 0s - loss: 0.1490 - acc: 0.914 - 0s 87us/sample - loss: 0.1505 - acc: 0.9125\n",
      "Epoch 107/200\n",
      "3714/3714 [==============================] - ETA: 2s - loss: 0.0963 - acc: 0.906 - ETA: 0s - loss: 0.1492 - acc: 0.906 - ETA: 0s - loss: 0.1488 - acc: 0.912 - ETA: 0s - loss: 0.1521 - acc: 0.914 - ETA: 0s - loss: 0.1533 - acc: 0.912 - ETA: 0s - loss: 0.1519 - acc: 0.912 - 0s 98us/sample - loss: 0.1504 - acc: 0.9106\n",
      "Epoch 108/200\n",
      "3714/3714 [==============================] - ETA: 6s - loss: 0.1320 - acc: 0.937 - ETA: 0s - loss: 0.1497 - acc: 0.920 - ETA: 0s - loss: 0.1464 - acc: 0.915 - ETA: 0s - loss: 0.1466 - acc: 0.915 - ETA: 0s - loss: 0.1476 - acc: 0.913 - 0s 91us/sample - loss: 0.1502 - acc: 0.9101\n",
      "Epoch 109/200\n",
      "3714/3714 [==============================] - ETA: 0s - loss: 0.2535 - acc: 0.812 - ETA: 5s - loss: 0.1902 - acc: 0.875 - ETA: 1s - loss: 0.1442 - acc: 0.920 - ETA: 1s - loss: 0.1454 - acc: 0.919 - ETA: 0s - loss: 0.1488 - acc: 0.921 - ETA: 0s - loss: 0.1527 - acc: 0.916 - ETA: 0s - loss: 0.1515 - acc: 0.912 - 0s 112us/sample - loss: 0.1503 - acc: 0.9120\n",
      "Epoch 110/200\n",
      "3714/3714 [==============================] - ETA: 0s - loss: 0.1276 - acc: 0.906 - ETA: 0s - loss: 0.1578 - acc: 0.907 - ETA: 0s - loss: 0.1614 - acc: 0.905 - ETA: 0s - loss: 0.1570 - acc: 0.906 - ETA: 0s - loss: 0.1538 - acc: 0.909 - ETA: 0s - loss: 0.1499 - acc: 0.913 - 0s 87us/sample - loss: 0.1502 - acc: 0.9130\n",
      "Epoch 111/200\n",
      "3714/3714 [==============================] - ETA: 0s - loss: 0.1344 - acc: 0.906 - ETA: 0s - loss: 0.1514 - acc: 0.904 - ETA: 0s - loss: 0.1500 - acc: 0.909 - ETA: 0s - loss: 0.1529 - acc: 0.909 - ETA: 0s - loss: 0.1533 - acc: 0.910 - 0s 71us/sample - loss: 0.1498 - acc: 0.9120\n",
      "Epoch 112/200\n",
      "3714/3714 [==============================] - ETA: 8s - loss: 0.1806 - acc: 0.906 - ETA: 4s - loss: 0.2081 - acc: 0.885 - ETA: 0s - loss: 0.1496 - acc: 0.912 - ETA: 0s - loss: 0.1485 - acc: 0.913 - ETA: 0s - loss: 0.1496 - acc: 0.910 - 0s 86us/sample - loss: 0.1498 - acc: 0.9114\n",
      "Epoch 113/200\n",
      "3714/3714 [==============================] - ETA: 0s - loss: 0.0447 - acc: 1.000 - ETA: 0s - loss: 0.1413 - acc: 0.934 - ETA: 0s - loss: 0.1525 - acc: 0.913 - ETA: 0s - loss: 0.1531 - acc: 0.909 - 0s 56us/sample - loss: 0.1497 - acc: 0.9117\n",
      "Epoch 114/200\n",
      "3714/3714 [==============================] - ETA: 0s - loss: 0.0676 - acc: 0.968 - ETA: 0s - loss: 0.1221 - acc: 0.928 - ETA: 0s - loss: 0.1451 - acc: 0.909 - ETA: 0s - loss: 0.1443 - acc: 0.915 - 0s 56us/sample - loss: 0.1498 - acc: 0.9122\n",
      "Epoch 115/200\n",
      "3714/3714 [==============================] - ETA: 0s - loss: 0.1090 - acc: 0.937 - ETA: 0s - loss: 0.1483 - acc: 0.921 - ETA: 0s - loss: 0.1451 - acc: 0.917 - ETA: 0s - loss: 0.1441 - acc: 0.917 - ETA: 0s - loss: 0.1482 - acc: 0.912 - 0s 66us/sample - loss: 0.1492 - acc: 0.9111\n",
      "Epoch 116/200\n",
      "3714/3714 [==============================] - ETA: 0s - loss: 0.1575 - acc: 0.906 - ETA: 0s - loss: 0.1648 - acc: 0.906 - ETA: 0s - loss: 0.1546 - acc: 0.907 - ETA: 0s - loss: 0.1526 - acc: 0.908 - 0s 57us/sample - loss: 0.1497 - acc: 0.9095\n",
      "Epoch 117/200\n",
      "3714/3714 [==============================] - ETA: 0s - loss: 0.0835 - acc: 0.937 - ETA: 0s - loss: 0.1548 - acc: 0.917 - ETA: 0s - loss: 0.1510 - acc: 0.915 - ETA: 0s - loss: 0.1494 - acc: 0.913 - 0s 55us/sample - loss: 0.1496 - acc: 0.9133\n",
      "Epoch 118/200\n",
      "3714/3714 [==============================] - ETA: 1s - loss: 0.2229 - acc: 0.937 - ETA: 0s - loss: 0.1593 - acc: 0.902 - ETA: 0s - loss: 0.1489 - acc: 0.910 - ETA: 0s - loss: 0.1448 - acc: 0.914 - 0s 60us/sample - loss: 0.1492 - acc: 0.9103\n",
      "Epoch 119/200\n",
      "3714/3714 [==============================] - ETA: 3s - loss: 0.0325 - acc: 1.000 - ETA: 0s - loss: 0.1358 - acc: 0.926 - ETA: 0s - loss: 0.1412 - acc: 0.918 - ETA: 0s - loss: 0.1505 - acc: 0.913 - 0s 62us/sample - loss: 0.1491 - acc: 0.9117\n",
      "Epoch 120/200\n",
      "3714/3714 [==============================] - ETA: 2s - loss: 0.1242 - acc: 0.968 - ETA: 0s - loss: 0.1330 - acc: 0.923 - ETA: 0s - loss: 0.1390 - acc: 0.922 - ETA: 0s - loss: 0.1451 - acc: 0.914 - 0s 67us/sample - loss: 0.1491 - acc: 0.9130\n",
      "Epoch 121/200\n",
      "3714/3714 [==============================] - ETA: 1s - loss: 0.0864 - acc: 0.968 - ETA: 0s - loss: 0.1300 - acc: 0.924 - ETA: 0s - loss: 0.1443 - acc: 0.912 - ETA: 0s - loss: 0.1449 - acc: 0.910 - 0s 64us/sample - loss: 0.1490 - acc: 0.9101\n",
      "Epoch 122/200\n",
      "3714/3714 [==============================] - ETA: 0s - loss: 0.1487 - acc: 0.906 - ETA: 0s - loss: 0.1490 - acc: 0.922 - ETA: 0s - loss: 0.1492 - acc: 0.910 - ETA: 0s - loss: 0.1492 - acc: 0.910 - 0s 60us/sample - loss: 0.1489 - acc: 0.9109\n",
      "Epoch 123/200\n",
      "3714/3714 [==============================] - ETA: 1s - loss: 0.2033 - acc: 0.843 - ETA: 0s - loss: 0.1528 - acc: 0.899 - ETA: 0s - loss: 0.1577 - acc: 0.908 - ETA: 0s - loss: 0.1528 - acc: 0.911 - 0s 63us/sample - loss: 0.1487 - acc: 0.9141\n",
      "Epoch 124/200\n",
      "3714/3714 [==============================] - ETA: 0s - loss: 0.1195 - acc: 0.937 - ETA: 0s - loss: 0.1395 - acc: 0.919 - ETA: 0s - loss: 0.1448 - acc: 0.918 - ETA: 0s - loss: 0.1489 - acc: 0.913 - 0s 58us/sample - loss: 0.1485 - acc: 0.9141\n",
      "Epoch 125/200\n",
      "3714/3714 [==============================] - ETA: 4s - loss: 0.2118 - acc: 0.906 - ETA: 0s - loss: 0.1521 - acc: 0.912 - ETA: 0s - loss: 0.1491 - acc: 0.914 - ETA: 0s - loss: 0.1487 - acc: 0.911 - 0s 63us/sample - loss: 0.1487 - acc: 0.9106\n",
      "Epoch 126/200\n",
      "3714/3714 [==============================] - ETA: 3s - loss: 0.1242 - acc: 0.968 - ETA: 0s - loss: 0.1646 - acc: 0.903 - ETA: 0s - loss: 0.1542 - acc: 0.911 - ETA: 0s - loss: 0.1491 - acc: 0.907 - ETA: 0s - loss: 0.1482 - acc: 0.911 - 0s 80us/sample - loss: 0.1486 - acc: 0.9111\n",
      "Epoch 127/200\n",
      "3714/3714 [==============================] - ETA: 0s - loss: 0.2171 - acc: 0.875 - ETA: 0s - loss: 0.1517 - acc: 0.917 - ETA: 0s - loss: 0.1444 - acc: 0.915 - ETA: 0s - loss: 0.1510 - acc: 0.912 - ETA: 0s - loss: 0.1476 - acc: 0.912 - 0s 69us/sample - loss: 0.1485 - acc: 0.9128\n",
      "Epoch 128/200\n",
      "3714/3714 [==============================] - ETA: 2s - loss: 0.2331 - acc: 0.937 - ETA: 0s - loss: 0.1349 - acc: 0.922 - ETA: 0s - loss: 0.1460 - acc: 0.915 - ETA: 0s - loss: 0.1449 - acc: 0.916 - ETA: 0s - loss: 0.1489 - acc: 0.915 - 0s 82us/sample - loss: 0.1485 - acc: 0.9114\n",
      "Epoch 129/200\n",
      "3714/3714 [==============================] - ETA: 1s - loss: 0.0912 - acc: 1.000 - ETA: 0s - loss: 0.1557 - acc: 0.911 - ETA: 0s - loss: 0.1521 - acc: 0.912 - ETA: 0s - loss: 0.1501 - acc: 0.914 - ETA: 0s - loss: 0.1487 - acc: 0.915 - 0s 78us/sample - loss: 0.1484 - acc: 0.9128\n",
      "Epoch 130/200\n",
      "3714/3714 [==============================] - ETA: 0s - loss: 0.1692 - acc: 0.968 - ETA: 2s - loss: 0.1560 - acc: 0.929 - ETA: 0s - loss: 0.1311 - acc: 0.918 - ETA: 0s - loss: 0.1370 - acc: 0.914 - ETA: 0s - loss: 0.1434 - acc: 0.912 - ETA: 0s - loss: 0.1453 - acc: 0.911 - 0s 86us/sample - loss: 0.1484 - acc: 0.9103\n",
      "Epoch 131/200\n",
      "3714/3714 [==============================] - ETA: 4s - loss: 0.1779 - acc: 0.906 - ETA: 0s - loss: 0.1574 - acc: 0.908 - ETA: 0s - loss: 0.1478 - acc: 0.915 - ETA: 0s - loss: 0.1496 - acc: 0.912 - ETA: 0s - loss: 0.1479 - acc: 0.913 - ETA: 0s - loss: 0.1478 - acc: 0.914 - ETA: 0s - loss: 0.1479 - acc: 0.913 - ETA: 0s - loss: 0.1484 - acc: 0.913 - ETA: 0s - loss: 0.1501 - acc: 0.911 - ETA: 0s - loss: 0.1488 - acc: 0.912 - 1s 156us/sample - loss: 0.1484 - acc: 0.9133\n",
      "Epoch 132/200\n",
      "3714/3714 [==============================] - ETA: 0s - loss: 0.1746 - acc: 0.906 - ETA: 3s - loss: 0.1760 - acc: 0.921 - ETA: 4s - loss: 0.1494 - acc: 0.927 - ETA: 0s - loss: 0.1322 - acc: 0.921 - ETA: 0s - loss: 0.1414 - acc: 0.913 - ETA: 0s - loss: 0.1466 - acc: 0.911 - ETA: 0s - loss: 0.1543 - acc: 0.905 - 0s 110us/sample - loss: 0.1482 - acc: 0.9093\n",
      "Epoch 133/200\n",
      "3714/3714 [==============================] - ETA: 0s - loss: 0.0791 - acc: 0.968 - ETA: 0s - loss: 0.1633 - acc: 0.900 - ETA: 0s - loss: 0.1524 - acc: 0.913 - ETA: 0s - loss: 0.1520 - acc: 0.911 - 0s 66us/sample - loss: 0.1480 - acc: 0.9138\n",
      "Epoch 134/200\n",
      "3714/3714 [==============================] - ETA: 0s - loss: 0.1491 - acc: 0.906 - ETA: 0s - loss: 0.1523 - acc: 0.900 - ETA: 0s - loss: 0.1484 - acc: 0.902 - ETA: 0s - loss: 0.1485 - acc: 0.904 - ETA: 0s - loss: 0.1498 - acc: 0.903 - ETA: 0s - loss: 0.1457 - acc: 0.909 - ETA: 0s - loss: 0.1461 - acc: 0.909 - ETA: 0s - loss: 0.1477 - acc: 0.909 - 0s 114us/sample - loss: 0.1480 - acc: 0.9103\n",
      "Epoch 135/200\n",
      "3714/3714 [==============================] - ETA: 1s - loss: 0.1075 - acc: 0.937 - ETA: 5s - loss: 0.0848 - acc: 0.953 - ETA: 1s - loss: 0.1746 - acc: 0.884 - ETA: 2s - loss: 0.1652 - acc: 0.892 - ETA: 1s - loss: 0.1478 - acc: 0.903 - ETA: 0s - loss: 0.1620 - acc: 0.897 - ETA: 0s - loss: 0.1595 - acc: 0.898 - ETA: 0s - loss: 0.1470 - acc: 0.910 - ETA: 0s - loss: 0.1498 - acc: 0.907 - ETA: 0s - loss: 0.1463 - acc: 0.911 - ETA: 0s - loss: 0.1464 - acc: 0.911 - ETA: 0s - loss: 0.1455 - acc: 0.910 - ETA: 0s - loss: 0.1457 - acc: 0.912 - ETA: 0s - loss: 0.1453 - acc: 0.912 - ETA: 0s - loss: 0.1497 - acc: 0.909 - 1s 236us/sample - loss: 0.1480 - acc: 0.9114\n",
      "Epoch 136/200\n",
      "3714/3714 [==============================] - ETA: 0s - loss: 0.0928 - acc: 0.968 - ETA: 0s - loss: 0.1376 - acc: 0.929 - ETA: 0s - loss: 0.1381 - acc: 0.928 - ETA: 0s - loss: 0.1358 - acc: 0.929 - ETA: 0s - loss: 0.1423 - acc: 0.917 - ETA: 0s - loss: 0.1418 - acc: 0.921 - ETA: 0s - loss: 0.1464 - acc: 0.918 - ETA: 0s - loss: 0.1488 - acc: 0.914 - 0s 125us/sample - loss: 0.1477 - acc: 0.9146\n",
      "Epoch 137/200\n",
      "3714/3714 [==============================] - ETA: 2s - loss: 0.1313 - acc: 0.875 - ETA: 4s - loss: 0.1650 - acc: 0.890 - ETA: 0s - loss: 0.1582 - acc: 0.904 - ETA: 0s - loss: 0.1559 - acc: 0.910 - ETA: 0s - loss: 0.1472 - acc: 0.912 - ETA: 0s - loss: 0.1467 - acc: 0.912 - 0s 95us/sample - loss: 0.1477 - acc: 0.9136\n",
      "Epoch 138/200\n"
     ]
    },
    {
     "name": "stdout",
     "output_type": "stream",
     "text": [
      "3714/3714 [==============================] - ETA: 0s - loss: 0.2417 - acc: 0.812 - ETA: 3s - loss: 0.2103 - acc: 0.859 - ETA: 4s - loss: 0.2127 - acc: 0.854 - ETA: 2s - loss: 0.1786 - acc: 0.896 - ETA: 0s - loss: 0.1565 - acc: 0.911 - ETA: 0s - loss: 0.1474 - acc: 0.916 - ETA: 0s - loss: 0.1469 - acc: 0.915 - 0s 108us/sample - loss: 0.1477 - acc: 0.9141\n",
      "Epoch 139/200\n",
      "3714/3714 [==============================] - ETA: 0s - loss: 0.1967 - acc: 0.906 - ETA: 0s - loss: 0.1259 - acc: 0.937 - ETA: 0s - loss: 0.1394 - acc: 0.921 - ETA: 0s - loss: 0.1467 - acc: 0.915 - 0s 54us/sample - loss: 0.1476 - acc: 0.9128\n",
      "Epoch 140/200\n",
      "3714/3714 [==============================] - ETA: 0s - loss: 0.2183 - acc: 0.843 - ETA: 0s - loss: 0.1537 - acc: 0.903 - ETA: 0s - loss: 0.1518 - acc: 0.905 - ETA: 0s - loss: 0.1492 - acc: 0.906 - ETA: 0s - loss: 0.1476 - acc: 0.911 - 0s 62us/sample - loss: 0.1475 - acc: 0.9122\n",
      "Epoch 141/200\n",
      "3714/3714 [==============================] - ETA: 0s - loss: 0.1592 - acc: 0.875 - ETA: 0s - loss: 0.1447 - acc: 0.909 - ETA: 0s - loss: 0.1433 - acc: 0.910 - ETA: 0s - loss: 0.1441 - acc: 0.911 - 0s 64us/sample - loss: 0.1473 - acc: 0.9106\n",
      "Epoch 142/200\n",
      "3714/3714 [==============================] - ETA: 0s - loss: 0.1773 - acc: 0.875 - ETA: 0s - loss: 0.1494 - acc: 0.921 - ETA: 0s - loss: 0.1475 - acc: 0.916 - ETA: 0s - loss: 0.1458 - acc: 0.918 - ETA: 0s - loss: 0.1407 - acc: 0.920 - ETA: 0s - loss: 0.1491 - acc: 0.912 - 0s 94us/sample - loss: 0.1472 - acc: 0.9120\n",
      "Epoch 143/200\n",
      "3714/3714 [==============================] - ETA: 0s - loss: 0.1265 - acc: 0.968 - ETA: 1s - loss: 0.1275 - acc: 0.906 - ETA: 0s - loss: 0.1532 - acc: 0.897 - ETA: 0s - loss: 0.1393 - acc: 0.913 - ETA: 0s - loss: 0.1469 - acc: 0.907 - ETA: 0s - loss: 0.1497 - acc: 0.908 - 0s 94us/sample - loss: 0.1469 - acc: 0.9111\n",
      "Epoch 144/200\n",
      "3714/3714 [==============================] - ETA: 0s - loss: 0.1212 - acc: 0.937 - ETA: 0s - loss: 0.1398 - acc: 0.927 - ETA: 0s - loss: 0.1425 - acc: 0.919 - ETA: 0s - loss: 0.1470 - acc: 0.914 - 0s 60us/sample - loss: 0.1469 - acc: 0.9136\n",
      "Epoch 145/200\n",
      "3714/3714 [==============================] - ETA: 4s - loss: 0.1723 - acc: 0.875 - ETA: 0s - loss: 0.1383 - acc: 0.925 - ETA: 0s - loss: 0.1415 - acc: 0.912 - ETA: 0s - loss: 0.1458 - acc: 0.912 - ETA: 0s - loss: 0.1488 - acc: 0.909 - 0s 79us/sample - loss: 0.1475 - acc: 0.9090\n",
      "Epoch 146/200\n",
      "3714/3714 [==============================] - ETA: 0s - loss: 0.1811 - acc: 0.875 - ETA: 0s - loss: 0.1760 - acc: 0.892 - ETA: 0s - loss: 0.1467 - acc: 0.918 - ETA: 0s - loss: 0.1428 - acc: 0.920 - ETA: 0s - loss: 0.1422 - acc: 0.915 - ETA: 0s - loss: 0.1476 - acc: 0.909 - ETA: 0s - loss: 0.1479 - acc: 0.909 - 0s 98us/sample - loss: 0.1471 - acc: 0.9098\n",
      "Epoch 147/200\n",
      "3714/3714 [==============================] - ETA: 4s - loss: 0.1201 - acc: 0.937 - ETA: 1s - loss: 0.1285 - acc: 0.924 - ETA: 0s - loss: 0.1381 - acc: 0.909 - ETA: 0s - loss: 0.1411 - acc: 0.909 - ETA: 0s - loss: 0.1388 - acc: 0.911 - ETA: 0s - loss: 0.1435 - acc: 0.912 - ETA: 0s - loss: 0.1435 - acc: 0.913 - 0s 116us/sample - loss: 0.1470 - acc: 0.9122\n",
      "Epoch 148/200\n",
      "3714/3714 [==============================] - ETA: 0s - loss: 0.1786 - acc: 0.843 - ETA: 0s - loss: 0.1694 - acc: 0.899 - ETA: 0s - loss: 0.1456 - acc: 0.911 - ETA: 0s - loss: 0.1476 - acc: 0.912 - ETA: 0s - loss: 0.1443 - acc: 0.915 - 0s 73us/sample - loss: 0.1468 - acc: 0.9120\n",
      "Epoch 149/200\n",
      "3714/3714 [==============================] - ETA: 0s - loss: 0.1860 - acc: 0.906 - ETA: 0s - loss: 0.1316 - acc: 0.925 - ETA: 0s - loss: 0.1423 - acc: 0.915 - ETA: 0s - loss: 0.1468 - acc: 0.911 - ETA: 0s - loss: 0.1463 - acc: 0.912 - ETA: 0s - loss: 0.1467 - acc: 0.911 - 0s 82us/sample - loss: 0.1468 - acc: 0.9120\n",
      "Epoch 150/200\n",
      "3714/3714 [==============================] - ETA: 3s - loss: 0.1716 - acc: 0.937 - ETA: 0s - loss: 0.1537 - acc: 0.916 - ETA: 0s - loss: 0.1538 - acc: 0.913 - ETA: 0s - loss: 0.1504 - acc: 0.916 - ETA: 0s - loss: 0.1443 - acc: 0.916 - 0s 86us/sample - loss: 0.1469 - acc: 0.9133\n",
      "Epoch 151/200\n",
      "3714/3714 [==============================] - ETA: 0s - loss: 0.1297 - acc: 0.906 - ETA: 0s - loss: 0.1412 - acc: 0.907 - ETA: 0s - loss: 0.1453 - acc: 0.913 - ETA: 0s - loss: 0.1473 - acc: 0.912 - ETA: 0s - loss: 0.1456 - acc: 0.914 - 0s 67us/sample - loss: 0.1465 - acc: 0.9141\n",
      "Epoch 152/200\n",
      "3714/3714 [==============================] - ETA: 0s - loss: 0.1619 - acc: 0.906 - ETA: 2s - loss: 0.1938 - acc: 0.875 - ETA: 2s - loss: 0.2196 - acc: 0.850 - ETA: 3s - loss: 0.2243 - acc: 0.843 - ETA: 3s - loss: 0.2158 - acc: 0.851 - ETA: 2s - loss: 0.1899 - acc: 0.872 - ETA: 0s - loss: 0.1596 - acc: 0.899 - ETA: 0s - loss: 0.1563 - acc: 0.902 - ETA: 0s - loss: 0.1508 - acc: 0.909 - ETA: 0s - loss: 0.1475 - acc: 0.911 - ETA: 0s - loss: 0.1491 - acc: 0.909 - ETA: 0s - loss: 0.1495 - acc: 0.909 - ETA: 0s - loss: 0.1491 - acc: 0.910 - 1s 200us/sample - loss: 0.1466 - acc: 0.9111\n",
      "Epoch 153/200\n",
      "3714/3714 [==============================] - ETA: 0s - loss: 0.1213 - acc: 0.937 - ETA: 0s - loss: 0.1383 - acc: 0.915 - ETA: 0s - loss: 0.1411 - acc: 0.912 - ETA: 0s - loss: 0.1532 - acc: 0.900 - ETA: 0s - loss: 0.1474 - acc: 0.909 - 0s 77us/sample - loss: 0.1466 - acc: 0.9106\n",
      "Epoch 154/200\n",
      "3714/3714 [==============================] - ETA: 0s - loss: 0.1009 - acc: 0.937 - ETA: 0s - loss: 0.1495 - acc: 0.921 - ETA: 0s - loss: 0.1484 - acc: 0.912 - ETA: 0s - loss: 0.1473 - acc: 0.911 - ETA: 0s - loss: 0.1466 - acc: 0.909 - ETA: 0s - loss: 0.1497 - acc: 0.907 - 0s 92us/sample - loss: 0.1464 - acc: 0.9106\n",
      "Epoch 155/200\n",
      "3714/3714 [==============================] - ETA: 1s - loss: 0.1385 - acc: 0.906 - ETA: 0s - loss: 0.1488 - acc: 0.932 - ETA: 0s - loss: 0.1362 - acc: 0.929 - ETA: 0s - loss: 0.1387 - acc: 0.927 - ETA: 0s - loss: 0.1444 - acc: 0.917 - ETA: 0s - loss: 0.1480 - acc: 0.912 - 0s 88us/sample - loss: 0.1463 - acc: 0.9128\n",
      "Epoch 156/200\n",
      "3714/3714 [==============================] - ETA: 2s - loss: 0.1016 - acc: 0.968 - ETA: 5s - loss: 0.1027 - acc: 0.968 - ETA: 0s - loss: 0.1260 - acc: 0.929 - ETA: 0s - loss: 0.1363 - acc: 0.924 - ETA: 0s - loss: 0.1382 - acc: 0.921 - ETA: 0s - loss: 0.1432 - acc: 0.915 - ETA: 0s - loss: 0.1420 - acc: 0.916 - ETA: 0s - loss: 0.1421 - acc: 0.916 - 1s 135us/sample - loss: 0.1463 - acc: 0.9125\n",
      "Epoch 157/200\n",
      "3714/3714 [==============================] - ETA: 0s - loss: 0.1858 - acc: 0.843 - ETA: 0s - loss: 0.1386 - acc: 0.920 - ETA: 0s - loss: 0.1393 - acc: 0.914 - ETA: 0s - loss: 0.1371 - acc: 0.915 - ETA: 0s - loss: 0.1364 - acc: 0.914 - ETA: 0s - loss: 0.1369 - acc: 0.914 - ETA: 0s - loss: 0.1401 - acc: 0.912 - ETA: 0s - loss: 0.1397 - acc: 0.912 - ETA: 0s - loss: 0.1374 - acc: 0.915 - ETA: 0s - loss: 0.1364 - acc: 0.917 - ETA: 0s - loss: 0.1450 - acc: 0.914 - 1s 161us/sample - loss: 0.1462 - acc: 0.9141\n",
      "Epoch 158/200\n",
      "3714/3714 [==============================] - ETA: 1s - loss: 0.0792 - acc: 0.968 - ETA: 3s - loss: 0.1123 - acc: 0.916 - ETA: 2s - loss: 0.1349 - acc: 0.916 - ETA: 0s - loss: 0.1535 - acc: 0.899 - ETA: 0s - loss: 0.1455 - acc: 0.909 - ETA: 0s - loss: 0.1468 - acc: 0.907 - ETA: 0s - loss: 0.1477 - acc: 0.909 - ETA: 0s - loss: 0.1465 - acc: 0.909 - 0s 128us/sample - loss: 0.1464 - acc: 0.9098\n",
      "Epoch 159/200\n",
      "3714/3714 [==============================] - ETA: 1s - loss: 0.2487 - acc: 0.812 - ETA: 2s - loss: 0.1633 - acc: 0.895 - ETA: 0s - loss: 0.1513 - acc: 0.906 - ETA: 0s - loss: 0.1485 - acc: 0.909 - ETA: 0s - loss: 0.1490 - acc: 0.910 - ETA: 0s - loss: 0.1464 - acc: 0.911 - ETA: 0s - loss: 0.1458 - acc: 0.912 - ETA: 0s - loss: 0.1456 - acc: 0.913 - 0s 130us/sample - loss: 0.1459 - acc: 0.9138\n",
      "Epoch 160/200\n",
      "3714/3714 [==============================] - ETA: 0s - loss: 0.1219 - acc: 0.937 - ETA: 3s - loss: 0.1459 - acc: 0.890 - ETA: 2s - loss: 0.1289 - acc: 0.927 - ETA: 2s - loss: 0.1288 - acc: 0.925 - ETA: 0s - loss: 0.1450 - acc: 0.914 - ETA: 0s - loss: 0.1436 - acc: 0.916 - ETA: 0s - loss: 0.1458 - acc: 0.910 - ETA: 0s - loss: 0.1458 - acc: 0.914 - 0s 125us/sample - loss: 0.1460 - acc: 0.9144\n",
      "Epoch 161/200\n",
      "3714/3714 [==============================] - ETA: 0s - loss: 0.0764 - acc: 0.968 - ETA: 0s - loss: 0.1466 - acc: 0.911 - ETA: 0s - loss: 0.1466 - acc: 0.912 - ETA: 0s - loss: 0.1447 - acc: 0.914 - ETA: 0s - loss: 0.1442 - acc: 0.914 - ETA: 0s - loss: 0.1418 - acc: 0.913 - ETA: 0s - loss: 0.1465 - acc: 0.911 - ETA: 0s - loss: 0.1475 - acc: 0.911 - 0s 126us/sample - loss: 0.1460 - acc: 0.9111\n",
      "Epoch 162/200\n",
      "3714/3714 [==============================] - ETA: 2s - loss: 0.0620 - acc: 1.000 - ETA: 0s - loss: 0.1482 - acc: 0.914 - ETA: 0s - loss: 0.1472 - acc: 0.912 - ETA: 0s - loss: 0.1468 - acc: 0.913 - ETA: 0s - loss: 0.1485 - acc: 0.912 - ETA: 0s - loss: 0.1461 - acc: 0.913 - 0s 85us/sample - loss: 0.1458 - acc: 0.9133\n",
      "Epoch 163/200\n",
      "3714/3714 [==============================] - ETA: 1s - loss: 0.1307 - acc: 0.937 - ETA: 0s - loss: 0.1394 - acc: 0.925 - ETA: 0s - loss: 0.1441 - acc: 0.918 - ETA: 0s - loss: 0.1448 - acc: 0.919 - ETA: 0s - loss: 0.1467 - acc: 0.917 - ETA: 0s - loss: 0.1479 - acc: 0.915 - ETA: 0s - loss: 0.1471 - acc: 0.914 - ETA: 0s - loss: 0.1485 - acc: 0.914 - ETA: 0s - loss: 0.1467 - acc: 0.914 - 0s 133us/sample - loss: 0.1458 - acc: 0.9149\n",
      "Epoch 164/200\n",
      "3714/3714 [==============================] - ETA: 1s - loss: 0.0794 - acc: 0.968 - ETA: 0s - loss: 0.1390 - acc: 0.917 - ETA: 0s - loss: 0.1385 - acc: 0.920 - ETA: 0s - loss: 0.1395 - acc: 0.920 - ETA: 0s - loss: 0.1428 - acc: 0.915 - ETA: 0s - loss: 0.1431 - acc: 0.915 - ETA: 0s - loss: 0.1454 - acc: 0.914 - 0s 108us/sample - loss: 0.1455 - acc: 0.9146\n",
      "Epoch 165/200\n",
      "3714/3714 [==============================] - ETA: 2s - loss: 0.2302 - acc: 0.843 - ETA: 0s - loss: 0.1420 - acc: 0.919 - ETA: 0s - loss: 0.1473 - acc: 0.913 - ETA: 0s - loss: 0.1454 - acc: 0.912 - ETA: 0s - loss: 0.1431 - acc: 0.913 - ETA: 0s - loss: 0.1477 - acc: 0.912 - 0s 86us/sample - loss: 0.1457 - acc: 0.9136\n",
      "Epoch 166/200\n",
      "3714/3714 [==============================] - ETA: 1s - loss: 0.2227 - acc: 0.843 - ETA: 0s - loss: 0.1790 - acc: 0.902 - ETA: 0s - loss: 0.1678 - acc: 0.896 - ETA: 0s - loss: 0.1448 - acc: 0.912 - ETA: 0s - loss: 0.1430 - acc: 0.913 - ETA: 0s - loss: 0.1461 - acc: 0.912 - 0s 94us/sample - loss: 0.1456 - acc: 0.9122\n",
      "Epoch 167/200\n",
      "3714/3714 [==============================] - ETA: 1s - loss: 0.0497 - acc: 1.000 - ETA: 0s - loss: 0.1281 - acc: 0.931 - ETA: 0s - loss: 0.1620 - acc: 0.908 - ETA: 0s - loss: 0.1538 - acc: 0.908 - ETA: 0s - loss: 0.1533 - acc: 0.908 - ETA: 0s - loss: 0.1518 - acc: 0.910 - ETA: 0s - loss: 0.1510 - acc: 0.910 - ETA: 0s - loss: 0.1490 - acc: 0.912 - 0s 121us/sample - loss: 0.1455 - acc: 0.9146\n",
      "Epoch 168/200\n",
      "3714/3714 [==============================] - ETA: 0s - loss: 0.0734 - acc: 0.968 - ETA: 0s - loss: 0.1488 - acc: 0.913 - ETA: 0s - loss: 0.1431 - acc: 0.913 - ETA: 0s - loss: 0.1407 - acc: 0.915 - ETA: 0s - loss: 0.1420 - acc: 0.915 - ETA: 0s - loss: 0.1441 - acc: 0.914 - 0s 92us/sample - loss: 0.1454 - acc: 0.9122\n",
      "Epoch 169/200\n",
      "3714/3714 [==============================] - ETA: 0s - loss: 0.0536 - acc: 1.000 - ETA: 0s - loss: 0.1339 - acc: 0.926 - ETA: 0s - loss: 0.1325 - acc: 0.922 - ETA: 0s - loss: 0.1303 - acc: 0.924 - ETA: 0s - loss: 0.1398 - acc: 0.916 - ETA: 0s - loss: 0.1459 - acc: 0.913 - 0s 81us/sample - loss: 0.1457 - acc: 0.9128\n",
      "Epoch 170/200\n",
      "3714/3714 [==============================] - ETA: 0s - loss: 0.1547 - acc: 0.906 - ETA: 2s - loss: 0.1496 - acc: 0.906 - ETA: 0s - loss: 0.1594 - acc: 0.915 - ETA: 0s - loss: 0.1417 - acc: 0.923 - ETA: 0s - loss: 0.1358 - acc: 0.929 - ETA: 0s - loss: 0.1420 - acc: 0.922 - ETA: 0s - loss: 0.1447 - acc: 0.918 - ETA: 0s - loss: 0.1451 - acc: 0.916 - 0s 118us/sample - loss: 0.1455 - acc: 0.9155\n",
      "Epoch 171/200\n",
      "3714/3714 [==============================] - ETA: 0s - loss: 0.1448 - acc: 0.968 - ETA: 0s - loss: 0.1442 - acc: 0.917 - ETA: 0s - loss: 0.1426 - acc: 0.913 - ETA: 0s - loss: 0.1467 - acc: 0.910 - ETA: 0s - loss: 0.1456 - acc: 0.911 - 0s 86us/sample - loss: 0.1454 - acc: 0.9136\n",
      "Epoch 172/200\n",
      "3714/3714 [==============================] - ETA: 0s - loss: 0.1291 - acc: 0.937 - ETA: 0s - loss: 0.1491 - acc: 0.916 - ETA: 0s - loss: 0.1382 - acc: 0.918 - ETA: 0s - loss: 0.1395 - acc: 0.917 - ETA: 0s - loss: 0.1408 - acc: 0.916 - ETA: 0s - loss: 0.1388 - acc: 0.918 - ETA: 0s - loss: 0.1407 - acc: 0.916 - ETA: 0s - loss: 0.1441 - acc: 0.911 - ETA: 0s - loss: 0.1430 - acc: 0.911 - ETA: 0s - loss: 0.1445 - acc: 0.911 - ETA: 0s - loss: 0.1438 - acc: 0.912 - 1s 168us/sample - loss: 0.1451 - acc: 0.9114\n",
      "Epoch 173/200\n",
      "3714/3714 [==============================] - ETA: 3s - loss: 0.2193 - acc: 0.875 - ETA: 0s - loss: 0.1738 - acc: 0.895 - ETA: 0s - loss: 0.1774 - acc: 0.889 - ETA: 0s - loss: 0.1720 - acc: 0.896 - ETA: 1s - loss: 0.1710 - acc: 0.897 - ETA: 0s - loss: 0.1592 - acc: 0.903 - ETA: 0s - loss: 0.1546 - acc: 0.906 - ETA: 0s - loss: 0.1496 - acc: 0.912 - ETA: 0s - loss: 0.1467 - acc: 0.911 - 1s 140us/sample - loss: 0.1452 - acc: 0.9125\n",
      "Epoch 174/200\n",
      "3714/3714 [==============================] - ETA: 0s - loss: 0.2345 - acc: 0.812 - ETA: 2s - loss: 0.1700 - acc: 0.875 - ETA: 2s - loss: 0.1899 - acc: 0.864 - ETA: 2s - loss: 0.1966 - acc: 0.857 - ETA: 1s - loss: 0.1609 - acc: 0.878 - ETA: 0s - loss: 0.1543 - acc: 0.899 - ETA: 0s - loss: 0.1516 - acc: 0.907 - ETA: 0s - loss: 0.1426 - acc: 0.913 - ETA: 0s - loss: 0.1430 - acc: 0.913 - ETA: 0s - loss: 0.1439 - acc: 0.913 - ETA: 0s - loss: 0.1457 - acc: 0.913 - 1s 165us/sample - loss: 0.1452 - acc: 0.9128\n",
      "Epoch 175/200\n",
      "3714/3714 [==============================] - ETA: 2s - loss: 0.0703 - acc: 0.937 - ETA: 1s - loss: 0.1173 - acc: 0.931 - ETA: 1s - loss: 0.1301 - acc: 0.934 - ETA: 1s - loss: 0.1451 - acc: 0.923 - ETA: 0s - loss: 0.1380 - acc: 0.925 - ETA: 0s - loss: 0.1409 - acc: 0.922 - ETA: 0s - loss: 0.1374 - acc: 0.921 - ETA: 0s - loss: 0.1410 - acc: 0.915 - ETA: 0s - loss: 0.1407 - acc: 0.912 - ETA: 0s - loss: 0.1410 - acc: 0.912 - ETA: 0s - loss: 0.1406 - acc: 0.912 - ETA: 0s - loss: 0.1407 - acc: 0.912 - ETA: 0s - loss: 0.1422 - acc: 0.912 - ETA: 0s - loss: 0.1427 - acc: 0.911 - 1s 217us/sample - loss: 0.1451 - acc: 0.9117\n",
      "Epoch 176/200\n",
      "3714/3714 [==============================] - ETA: 1s - loss: 0.0601 - acc: 0.968 - ETA: 2s - loss: 0.0962 - acc: 0.947 - ETA: 0s - loss: 0.1491 - acc: 0.909 - ETA: 0s - loss: 0.1536 - acc: 0.906 - ETA: 0s - loss: 0.1438 - acc: 0.914 - ETA: 0s - loss: 0.1429 - acc: 0.910 - ETA: 0s - loss: 0.1464 - acc: 0.907 - ETA: 0s - loss: 0.1444 - acc: 0.909 - ETA: 0s - loss: 0.1454 - acc: 0.911 - 0s 134us/sample - loss: 0.1452 - acc: 0.9122\n",
      "Epoch 177/200\n",
      "3714/3714 [==============================] - ETA: 4s - loss: 0.1682 - acc: 0.906 - ETA: 3s - loss: 0.1362 - acc: 0.927 - ETA: 0s - loss: 0.1391 - acc: 0.930 - ETA: 0s - loss: 0.1380 - acc: 0.926 - ETA: 0s - loss: 0.1394 - acc: 0.922 - ETA: 0s - loss: 0.1423 - acc: 0.919 - 0s 102us/sample - loss: 0.1449 - acc: 0.9141\n",
      "Epoch 178/200\n",
      "3714/3714 [==============================] - ETA: 0s - loss: 0.2622 - acc: 0.781 - ETA: 0s - loss: 0.1516 - acc: 0.904 - ETA: 0s - loss: 0.1476 - acc: 0.904 - ETA: 0s - loss: 0.1429 - acc: 0.910 - ETA: 0s - loss: 0.1450 - acc: 0.907 - ETA: 0s - loss: 0.1458 - acc: 0.909 - ETA: 0s - loss: 0.1430 - acc: 0.911 - 0s 99us/sample - loss: 0.1448 - acc: 0.9117\n",
      "Epoch 179/200\n",
      "3714/3714 [==============================] - ETA: 7s - loss: 0.1175 - acc: 0.937 - ETA: 0s - loss: 0.1435 - acc: 0.904 - ETA: 0s - loss: 0.1454 - acc: 0.910 - ETA: 0s - loss: 0.1404 - acc: 0.915 - ETA: 0s - loss: 0.1475 - acc: 0.912 - ETA: 0s - loss: 0.1452 - acc: 0.913 - ETA: 0s - loss: 0.1440 - acc: 0.914 - ETA: 0s - loss: 0.1450 - acc: 0.913 - ETA: 0s - loss: 0.1468 - acc: 0.911 - ETA: 0s - loss: 0.1450 - acc: 0.912 - ETA: 0s - loss: 0.1454 - acc: 0.912 - ETA: 0s - loss: 0.1452 - acc: 0.913 - 1s 207us/sample - loss: 0.1452 - acc: 0.9133\n",
      "Epoch 180/200\n"
     ]
    },
    {
     "name": "stdout",
     "output_type": "stream",
     "text": [
      "3714/3714 [==============================] - ETA: 9s - loss: 0.1714 - acc: 0.843 - ETA: 0s - loss: 0.1541 - acc: 0.908 - ETA: 0s - loss: 0.1478 - acc: 0.915 - ETA: 0s - loss: 0.1523 - acc: 0.909 - ETA: 0s - loss: 0.1490 - acc: 0.911 - ETA: 0s - loss: 0.1486 - acc: 0.910 - ETA: 0s - loss: 0.1482 - acc: 0.909 - ETA: 0s - loss: 0.1454 - acc: 0.912 - ETA: 0s - loss: 0.1466 - acc: 0.911 - 1s 160us/sample - loss: 0.1448 - acc: 0.9128\n",
      "Epoch 181/200\n",
      "3714/3714 [==============================] - ETA: 0s - loss: 0.1394 - acc: 0.968 - ETA: 0s - loss: 0.1337 - acc: 0.930 - ETA: 0s - loss: 0.1431 - acc: 0.917 - ETA: 0s - loss: 0.1434 - acc: 0.914 - ETA: 0s - loss: 0.1446 - acc: 0.912 - ETA: 0s - loss: 0.1447 - acc: 0.913 - 0s 90us/sample - loss: 0.1446 - acc: 0.9133\n",
      "Epoch 182/200\n",
      "3714/3714 [==============================] - ETA: 0s - loss: 0.0824 - acc: 0.937 - ETA: 0s - loss: 0.1586 - acc: 0.901 - ETA: 0s - loss: 0.1556 - acc: 0.903 - ETA: 0s - loss: 0.1535 - acc: 0.902 - ETA: 0s - loss: 0.1500 - acc: 0.904 - ETA: 0s - loss: 0.1453 - acc: 0.909 - ETA: 0s - loss: 0.1496 - acc: 0.906 - ETA: 0s - loss: 0.1485 - acc: 0.908 - 0s 121us/sample - loss: 0.1446 - acc: 0.9114\n",
      "Epoch 183/200\n",
      "3714/3714 [==============================] - ETA: 1s - loss: 0.1752 - acc: 0.875 - ETA: 0s - loss: 0.1144 - acc: 0.936 - ETA: 0s - loss: 0.1306 - acc: 0.920 - ETA: 0s - loss: 0.1367 - acc: 0.914 - ETA: 0s - loss: 0.1444 - acc: 0.909 - ETA: 0s - loss: 0.1465 - acc: 0.911 - 0s 93us/sample - loss: 0.1445 - acc: 0.9130\n",
      "Epoch 184/200\n",
      "3714/3714 [==============================] - ETA: 0s - loss: 0.1462 - acc: 0.937 - ETA: 0s - loss: 0.1347 - acc: 0.930 - ETA: 0s - loss: 0.1328 - acc: 0.926 - ETA: 0s - loss: 0.1449 - acc: 0.916 - ETA: 0s - loss: 0.1441 - acc: 0.914 - 0s 69us/sample - loss: 0.1444 - acc: 0.9136\n",
      "Epoch 185/200\n",
      "3714/3714 [==============================] - ETA: 0s - loss: 0.2425 - acc: 0.875 - ETA: 0s - loss: 0.1609 - acc: 0.895 - ETA: 0s - loss: 0.1349 - acc: 0.923 - ETA: 0s - loss: 0.1405 - acc: 0.915 - ETA: 0s - loss: 0.1421 - acc: 0.915 - 0s 79us/sample - loss: 0.1447 - acc: 0.9128\n",
      "Epoch 186/200\n",
      "3714/3714 [==============================] - ETA: 0s - loss: 0.1730 - acc: 0.875 - ETA: 0s - loss: 0.1487 - acc: 0.907 - ETA: 0s - loss: 0.1436 - acc: 0.911 - ETA: 0s - loss: 0.1459 - acc: 0.911 - 0s 63us/sample - loss: 0.1445 - acc: 0.9133\n",
      "Epoch 187/200\n",
      "3714/3714 [==============================] - ETA: 0s - loss: 0.1197 - acc: 0.968 - ETA: 0s - loss: 0.1376 - acc: 0.914 - ETA: 0s - loss: 0.1433 - acc: 0.915 - ETA: 0s - loss: 0.1455 - acc: 0.912 - 0s 61us/sample - loss: 0.1443 - acc: 0.9130\n",
      "Epoch 188/200\n",
      "3714/3714 [==============================] - ETA: 0s - loss: 0.1640 - acc: 0.875 - ETA: 0s - loss: 0.1546 - acc: 0.908 - ETA: 0s - loss: 0.1569 - acc: 0.900 - ETA: 0s - loss: 0.1493 - acc: 0.908 - ETA: 0s - loss: 0.1466 - acc: 0.911 - ETA: 0s - loss: 0.1447 - acc: 0.912 - 0s 89us/sample - loss: 0.1444 - acc: 0.9130\n",
      "Epoch 189/200\n",
      "3714/3714 [==============================] - ETA: 0s - loss: 0.1465 - acc: 0.906 - ETA: 0s - loss: 0.1685 - acc: 0.896 - ETA: 0s - loss: 0.1469 - acc: 0.911 - ETA: 0s - loss: 0.1425 - acc: 0.919 - ETA: 0s - loss: 0.1447 - acc: 0.915 - ETA: 0s - loss: 0.1441 - acc: 0.913 - 0s 81us/sample - loss: 0.1440 - acc: 0.9138\n",
      "Epoch 190/200\n",
      "3714/3714 [==============================] - ETA: 3s - loss: 0.1520 - acc: 0.906 - ETA: 0s - loss: 0.1575 - acc: 0.904 - ETA: 0s - loss: 0.1431 - acc: 0.915 - ETA: 0s - loss: 0.1420 - acc: 0.914 - ETA: 0s - loss: 0.1452 - acc: 0.912 - ETA: 0s - loss: 0.1436 - acc: 0.914 - ETA: 0s - loss: 0.1437 - acc: 0.915 - 0s 110us/sample - loss: 0.1441 - acc: 0.9146\n",
      "Epoch 191/200\n",
      "3714/3714 [==============================] - ETA: 0s - loss: 0.1303 - acc: 0.968 - ETA: 4s - loss: 0.1327 - acc: 0.937 - ETA: 0s - loss: 0.1373 - acc: 0.911 - ETA: 0s - loss: 0.1431 - acc: 0.908 - ETA: 0s - loss: 0.1413 - acc: 0.912 - ETA: 0s - loss: 0.1447 - acc: 0.912 - 0s 91us/sample - loss: 0.1442 - acc: 0.9122\n",
      "Epoch 192/200\n",
      "3714/3714 [==============================] - ETA: 4s - loss: 0.1492 - acc: 0.906 - ETA: 0s - loss: 0.1418 - acc: 0.912 - ETA: 0s - loss: 0.1493 - acc: 0.916 - ETA: 0s - loss: 0.1490 - acc: 0.911 - ETA: 0s - loss: 0.1485 - acc: 0.913 - ETA: 0s - loss: 0.1426 - acc: 0.914 - 0s 98us/sample - loss: 0.1441 - acc: 0.9141\n",
      "Epoch 193/200\n",
      "3714/3714 [==============================] - ETA: 1s - loss: 0.2857 - acc: 0.875 - ETA: 0s - loss: 0.1588 - acc: 0.915 - ETA: 0s - loss: 0.1486 - acc: 0.907 - ETA: 0s - loss: 0.1470 - acc: 0.910 - ETA: 0s - loss: 0.1448 - acc: 0.912 - ETA: 0s - loss: 0.1437 - acc: 0.913 - 0s 86us/sample - loss: 0.1440 - acc: 0.9128\n",
      "Epoch 194/200\n",
      "3714/3714 [==============================] - ETA: 0s - loss: 0.1308 - acc: 0.875 - ETA: 1s - loss: 0.1286 - acc: 0.895 - ETA: 0s - loss: 0.1397 - acc: 0.908 - ETA: 0s - loss: 0.1472 - acc: 0.908 - ETA: 0s - loss: 0.1502 - acc: 0.907 - ETA: 0s - loss: 0.1466 - acc: 0.910 - ETA: 0s - loss: 0.1432 - acc: 0.913 - 0s 96us/sample - loss: 0.1441 - acc: 0.9144\n",
      "Epoch 195/200\n",
      "3714/3714 [==============================] - ETA: 1s - loss: 0.0937 - acc: 0.906 - ETA: 1s - loss: 0.1231 - acc: 0.925 - ETA: 1s - loss: 0.1472 - acc: 0.913 - ETA: 1s - loss: 0.1398 - acc: 0.914 - ETA: 2s - loss: 0.1279 - acc: 0.925 - ETA: 1s - loss: 0.1261 - acc: 0.923 - ETA: 1s - loss: 0.1380 - acc: 0.920 - ETA: 0s - loss: 0.1388 - acc: 0.919 - ETA: 0s - loss: 0.1391 - acc: 0.918 - ETA: 0s - loss: 0.1369 - acc: 0.921 - ETA: 0s - loss: 0.1402 - acc: 0.919 - 1s 168us/sample - loss: 0.1438 - acc: 0.9168\n",
      "Epoch 196/200\n",
      "3714/3714 [==============================] - ETA: 1s - loss: 0.1504 - acc: 0.906 - ETA: 0s - loss: 0.1416 - acc: 0.909 - ETA: 0s - loss: 0.1394 - acc: 0.916 - ETA: 0s - loss: 0.1373 - acc: 0.920 - ETA: 0s - loss: 0.1420 - acc: 0.916 - ETA: 0s - loss: 0.1436 - acc: 0.913 - 0s 88us/sample - loss: 0.1436 - acc: 0.9136\n",
      "Epoch 197/200\n",
      "3714/3714 [==============================] - ETA: 4s - loss: 0.0494 - acc: 0.968 - ETA: 0s - loss: 0.1180 - acc: 0.937 - ETA: 0s - loss: 0.1538 - acc: 0.899 - ETA: 0s - loss: 0.1540 - acc: 0.903 - ETA: 0s - loss: 0.1500 - acc: 0.908 - 0s 83us/sample - loss: 0.1439 - acc: 0.9130\n",
      "Epoch 198/200\n",
      "3714/3714 [==============================] - ETA: 0s - loss: 0.1284 - acc: 0.937 - ETA: 4s - loss: 0.1486 - acc: 0.906 - ETA: 0s - loss: 0.1432 - acc: 0.910 - ETA: 0s - loss: 0.1435 - acc: 0.910 - ETA: 0s - loss: 0.1495 - acc: 0.905 - ETA: 0s - loss: 0.1431 - acc: 0.909 - 0s 99us/sample - loss: 0.1439 - acc: 0.9106\n",
      "Epoch 199/200\n",
      "3714/3714 [==============================] - ETA: 0s - loss: 0.0646 - acc: 0.968 - ETA: 0s - loss: 0.1309 - acc: 0.923 - ETA: 0s - loss: 0.1433 - acc: 0.913 - ETA: 0s - loss: 0.1481 - acc: 0.909 - 0s 60us/sample - loss: 0.1437 - acc: 0.9111\n",
      "Epoch 200/200\n",
      "3714/3714 [==============================] - ETA: 0s - loss: 0.0959 - acc: 0.906 - ETA: 0s - loss: 0.1311 - acc: 0.914 - ETA: 0s - loss: 0.1384 - acc: 0.907 - ETA: 0s - loss: 0.1447 - acc: 0.905 - ETA: 0s - loss: 0.1447 - acc: 0.906 - ETA: 0s - loss: 0.1458 - acc: 0.908 - ETA: 0s - loss: 0.1448 - acc: 0.909 - ETA: 0s - loss: 0.1433 - acc: 0.911 - 0s 108us/sample - loss: 0.1434 - acc: 0.9120\n"
     ]
    },
    {
     "data": {
      "text/plain": [
       "<tensorflow.python.keras.callbacks.History at 0x219506e0a58>"
      ]
     },
     "execution_count": 25,
     "metadata": {},
     "output_type": "execute_result"
    }
   ],
   "source": [
    "model.fit(train_images, train_labels, epochs=200)"
   ]
  },
  {
   "cell_type": "code",
   "execution_count": 27,
   "metadata": {},
   "outputs": [
    {
     "name": "stdout",
     "output_type": "stream",
     "text": [
      "3714/3714 [==============================] - ETA: 7s - loss: 0.9002 - acc: 0.093 - ETA: 0s - loss: 0.2594 - acc: 0.801 - 0s 44us/sample - loss: 0.1433 - acc: 0.9152\n"
     ]
    }
   ],
   "source": [
    "test_loss, test_acc = model.evaluate(test_images, test_labels)\n"
   ]
  },
  {
   "cell_type": "code",
   "execution_count": 28,
   "metadata": {},
   "outputs": [
    {
     "name": "stdout",
     "output_type": "stream",
     "text": [
      "Test accuracy: 0.9151858\n"
     ]
    }
   ],
   "source": [
    "print('Test accuracy:', test_acc)"
   ]
  },
  {
   "cell_type": "code",
   "execution_count": 29,
   "metadata": {},
   "outputs": [],
   "source": [
    "predictions = model.predict(test_images)"
   ]
  },
  {
   "cell_type": "code",
   "execution_count": 30,
   "metadata": {},
   "outputs": [
    {
     "name": "stdout",
     "output_type": "stream",
     "text": [
      "[[2.8273934e-01 7.1726066e-01]\n",
      " [4.1655657e-01 5.8344340e-01]\n",
      " [4.8093846e-01 5.1906157e-01]\n",
      " ...\n",
      " [1.6327994e-04 9.9983668e-01]\n",
      " [1.6024239e-04 9.9983978e-01]\n",
      " [8.8724526e-05 9.9991131e-01]]\n"
     ]
    }
   ],
   "source": [
    "print(predictions)"
   ]
  },
  {
   "cell_type": "code",
   "execution_count": 31,
   "metadata": {},
   "outputs": [
    {
     "data": {
      "image/png": "[encoded data removed]",
      "text/plain": [
       "<Figure size 720x720 with 25 Axes>"
      ]
     },
     "metadata": {},
     "output_type": "display_data"
    }
   ],
   "source": [
    "display_images(test_images, np.argmax(predictions, axis = 1))\n",
    "plt.show()"
   ]
  },
  {
   "cell_type": "code",
   "execution_count": null,
   "metadata": {},
   "outputs": [],
   "source": []
  }
 ],
 "metadata": {
  "kernelspec": {
   "display_name": "Python 3",
   "language": "python",
   "name": "python3"
  },
  "language_info": {
   "codemirror_mode": {
    "name": "ipython",
    "version": 3
   },
   "file_extension": ".py",
   "mimetype": "text/x-python",
   "name": "python",
   "nbconvert_exporter": "python",
   "pygments_lexer": "ipython3",
   "version": "3.6.4"
  }
 },
 "nbformat": 4,
 "nbformat_minor": 2
}
